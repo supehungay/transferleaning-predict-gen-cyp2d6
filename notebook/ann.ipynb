{
 "cells": [
  {
   "cell_type": "code",
   "execution_count": 1,
   "metadata": {},
   "outputs": [
    {
     "name": "stdout",
     "output_type": "stream",
     "text": [
      "WARNING:tensorflow:From c:\\anaconda3\\envs\\ml-hus\\lib\\site-packages\\keras\\src\\losses.py:2976: The name tf.losses.sparse_softmax_cross_entropy is deprecated. Please use tf.compat.v1.losses.sparse_softmax_cross_entropy instead.\n",
      "\n"
     ]
    }
   ],
   "source": [
    "import numpy as np\n",
    "import pandas as pd\n",
    "import tensorflow as tf\n",
    "from keras.models import Model\n",
    "from keras.layers import Input, Dense, Flatten, Conv1D, MaxPooling1D, BatchNormalization, Activation, Dropout, Bidirectional, LSTM, Embedding\n",
    "from keras.utils import to_categorical\n",
    "from keras.optimizers import Adam\n",
    "from keras.callbacks import ModelCheckpoint, TensorBoard, CSVLogger\n",
    "\n",
    "from sklearn.metrics import mean_absolute_error\n",
    "from sklearn.model_selection import train_test_split\n",
    "\n",
    "import joblib\n",
    "import glob\n",
    "import matplotlib.pyplot as plt\n",
    "from datetime import datetime\n",
    "import os\n",
    "\n",
    "from sklearn.decomposition import PCA\n",
    "from sklearn.preprocessing import StandardScaler\n"
   ]
  },
  {
   "cell_type": "code",
   "execution_count": 2,
   "metadata": {},
   "outputs": [],
   "source": [
    "def label2onehot(label: np.array) -> np.array:\n",
    "    thresholds = [0.25, 0.75, 1.25, 1.75]\n",
    "\n",
    "    categorical_labels = np.digitize(label, thresholds)\n",
    "\n",
    "    one_hot_encoder = to_categorical(categorical_labels)\n",
    "    \n",
    "    return one_hot_encoder"
   ]
  },
  {
   "cell_type": "code",
   "execution_count": 5,
   "metadata": {},
   "outputs": [],
   "source": [
    "def load_data() -> tuple:\n",
    "    X = None\n",
    "    y = None\n",
    "    all_path = sorted(glob.glob('../data/input_data/*'))\n",
    "    # count = 1\n",
    "    for count, path in enumerate(all_path):\n",
    "        print(f\"{count}. {path.split('/')[-1].split('.')[0]}\")\n",
    "        data_loaded = joblib.load(path)\n",
    "        if X is None:\n",
    "            X = data_loaded['X']\n",
    "            y = data_loaded['activate_score']\n",
    "        else:\n",
    "            X = np.concatenate((X, data_loaded['X']), axis=0)\n",
    "            y = np.concatenate((y, data_loaded['activate_score']), axis=0)\n",
    "\n",
    "    y = y.reshape(-1, 1)\n",
    "    y = label2onehot(y)\n",
    "    # scaler = StandardScaler()\n",
    "    # scaled_data = scaler.fit_transform(X)\n",
    "    # pca = PCA(n_components=.95)\n",
    "    # X = pca.fit_transform(scaled_data)\n",
    "    \n",
    "    return X, y"
   ]
  },
  {
   "cell_type": "code",
   "execution_count": 6,
   "metadata": {},
   "outputs": [
    {
     "name": "stdout",
     "output_type": "stream",
     "text": [
      "0. input_data\\batch_118\n",
      "1. input_data\\batch_119\n",
      "2. input_data\\batch_12\n",
      "3. input_data\\batch_120\n",
      "4. input_data\\batch_121\n",
      "5. input_data\\batch_122\n",
      "6. input_data\\batch_123\n",
      "7. input_data\\batch_124\n",
      "8. input_data\\batch_125\n",
      "9. input_data\\batch_126\n"
     ]
    }
   ],
   "source": [
    "# X_train, X_test, y_train, y_test = load_data()\n",
    "X_train, y_train = load_data()\n",
    "\n",
    "    \n",
    "input_shape = X_train.shape[1:]"
   ]
  },
  {
   "cell_type": "code",
   "execution_count": 7,
   "metadata": {},
   "outputs": [
    {
     "name": "stdout",
     "output_type": "stream",
     "text": [
      "X_train: (5000, 14868, 13); y_train: (5000, 5); input_shape(14868, 13)\n"
     ]
    }
   ],
   "source": [
    "# print(f'X_train: {X_train.shape}; X_test: {X_test.shape}; y_train: {y_train.shape}; y_test: {y_test.shape}, input_shape{input_shape}')\n",
    "print(f'X_train: {X_train.shape}; y_train: {y_train.shape}; input_shape{input_shape}')"
   ]
  },
  {
   "cell_type": "code",
   "execution_count": 8,
   "metadata": {},
   "outputs": [
    {
     "data": {
      "text/plain": [
       "array([[1., 0., 0., 0., 0.],\n",
       "       [1., 0., 0., 0., 0.],\n",
       "       [1., 0., 0., 0., 0.],\n",
       "       ...,\n",
       "       [0., 0., 0., 0., 1.],\n",
       "       [0., 0., 0., 0., 1.],\n",
       "       [0., 0., 0., 0., 1.]], dtype=float32)"
      ]
     },
     "execution_count": 8,
     "metadata": {},
     "output_type": "execute_result"
    }
   ],
   "source": [
    "y_train"
   ]
  },
  {
   "cell_type": "code",
   "execution_count": 9,
   "metadata": {},
   "outputs": [
    {
     "data": {
      "text/plain": [
       "(14868, 13)"
      ]
     },
     "execution_count": 9,
     "metadata": {},
     "output_type": "execute_result"
    }
   ],
   "source": [
    "X_train[0].shape"
   ]
  },
  {
   "cell_type": "code",
   "execution_count": 10,
   "metadata": {},
   "outputs": [
    {
     "data": {
      "text/plain": [
       "array([[[0., 0., 0., ..., 0., 0., 0.],\n",
       "        [1., 0., 0., ..., 0., 0., 0.],\n",
       "        [0., 1., 0., ..., 0., 0., 0.],\n",
       "        ...,\n",
       "        [0., 1., 0., ..., 0., 1., 0.],\n",
       "        [1., 0., 0., ..., 0., 1., 0.],\n",
       "        [0., 0., 0., ..., 0., 1., 0.]],\n",
       "\n",
       "       [[0., 0., 0., ..., 0., 0., 0.],\n",
       "        [1., 0., 0., ..., 0., 0., 0.],\n",
       "        [0., 1., 0., ..., 0., 0., 0.],\n",
       "        ...,\n",
       "        [0., 1., 0., ..., 0., 1., 0.],\n",
       "        [1., 0., 0., ..., 0., 1., 0.],\n",
       "        [0., 0., 0., ..., 0., 1., 0.]],\n",
       "\n",
       "       [[0., 0., 0., ..., 0., 0., 0.],\n",
       "        [1., 0., 0., ..., 0., 0., 0.],\n",
       "        [0., 1., 0., ..., 0., 0., 0.],\n",
       "        ...,\n",
       "        [0., 1., 0., ..., 0., 1., 0.],\n",
       "        [1., 0., 0., ..., 0., 1., 0.],\n",
       "        [0., 0., 0., ..., 0., 1., 0.]],\n",
       "\n",
       "       ...,\n",
       "\n",
       "       [[0., 0., 0., ..., 0., 0., 0.],\n",
       "        [1., 0., 0., ..., 0., 0., 0.],\n",
       "        [0., 1., 0., ..., 0., 0., 0.],\n",
       "        ...,\n",
       "        [0., 1., 0., ..., 0., 1., 0.],\n",
       "        [1., 0., 0., ..., 0., 1., 0.],\n",
       "        [0., 0., 0., ..., 0., 1., 0.]],\n",
       "\n",
       "       [[0., 0., 0., ..., 0., 0., 0.],\n",
       "        [1., 0., 0., ..., 0., 0., 0.],\n",
       "        [0., 1., 0., ..., 0., 0., 0.],\n",
       "        ...,\n",
       "        [0., 1., 0., ..., 0., 1., 0.],\n",
       "        [1., 0., 0., ..., 0., 1., 0.],\n",
       "        [0., 0., 0., ..., 0., 1., 0.]],\n",
       "\n",
       "       [[0., 0., 0., ..., 0., 0., 0.],\n",
       "        [1., 0., 0., ..., 0., 0., 0.],\n",
       "        [0., 1., 0., ..., 0., 0., 0.],\n",
       "        ...,\n",
       "        [0., 1., 0., ..., 0., 1., 0.],\n",
       "        [1., 0., 0., ..., 0., 1., 0.],\n",
       "        [0., 0., 0., ..., 0., 1., 0.]]])"
      ]
     },
     "execution_count": 10,
     "metadata": {},
     "output_type": "execute_result"
    }
   ],
   "source": [
    "X_train"
   ]
  },
  {
   "cell_type": "code",
   "execution_count": 11,
   "metadata": {},
   "outputs": [
    {
     "data": {
      "text/plain": [
       "(14868, 13)"
      ]
     },
     "execution_count": 11,
     "metadata": {},
     "output_type": "execute_result"
    }
   ],
   "source": [
    "input_shape"
   ]
  },
  {
   "cell_type": "code",
   "execution_count": 16,
   "metadata": {},
   "outputs": [],
   "source": [
    "def build_model(input_shape):\n",
    "    inputs = Input(shape=input_shape, dtype=float, name=\"data\")\n",
    "    # labels = tf.keras.layers.Input(name=\"label\", shape=(None,))\n",
    "    # layer = Flatten(name='flatten')(layer)\n",
    "    # layer = Embedding(input_dim=3260, output_dim=100, input_length=input_shape)(inputs)\n",
    "    # layer = LSTM(128, return_sequences=True)(inputs)\n",
    "    # layer = LSTM(128)(layer)\n",
    "    layer = Flatten()(inputs)\n",
    "    layer = Dense(units=128, activation='sigmoid', kernel_initializer='VarianceScaling', bias_initializer='Zeros', name='dense1')(layer)\n",
    "    layer = Activation(activation='relu', name=f'activation_{4}')(layer)\n",
    "    layer = Dropout(0.3, name='dropout_4')(layer)\n",
    "    layer = Dense(units=64, activation='sigmoid', kernel_initializer='VarianceScaling', bias_initializer='Zeros', name='dense2')(layer)\n",
    "    layer = Activation(activation='relu', name=f'activation_{5}')(layer)\n",
    "    layer = Dropout(0.3, name='dropout_5')(layer)\n",
    "    layer = Dense(units=32, activation='sigmoid', kernel_initializer='VarianceScaling', bias_initializer='Zeros', name='dense3')(layer)\n",
    "    layer = Activation(activation='relu', name=f'activation_{6}')(layer)\n",
    "    outputs = Dense(units=5, activation='softmax', kernel_initializer='VarianceScaling', bias_initializer='Zeros')(layer)\n",
    "    model = Model(inputs=inputs, outputs=outputs, name='cnn_model')\n",
    "    \n",
    "    return model"
   ]
  },
  {
   "cell_type": "code",
   "execution_count": 17,
   "metadata": {},
   "outputs": [
    {
     "data": {
      "text/plain": [
       "(14868, 13)"
      ]
     },
     "execution_count": 17,
     "metadata": {},
     "output_type": "execute_result"
    }
   ],
   "source": [
    "input_shape"
   ]
  },
  {
   "cell_type": "code",
   "execution_count": 18,
   "metadata": {},
   "outputs": [
    {
     "data": {
      "text/plain": [
       "1.0"
      ]
     },
     "execution_count": 18,
     "metadata": {},
     "output_type": "execute_result"
    }
   ],
   "source": [
    "np.max(X_train)"
   ]
  },
  {
   "cell_type": "code",
   "execution_count": 19,
   "metadata": {},
   "outputs": [
    {
     "name": "stdout",
     "output_type": "stream",
     "text": [
      "Model: \"cnn_model\"\n",
      "_________________________________________________________________\n",
      " Layer (type)                Output Shape              Param #   \n",
      "=================================================================\n",
      " data (InputLayer)           [(None, 14868, 13)]       0         \n",
      "                                                                 \n",
      " flatten (Flatten)           (None, 193284)            0         \n",
      "                                                                 \n",
      " dense1 (Dense)              (None, 128)               24740480  \n",
      "                                                                 \n",
      " activation_4 (Activation)   (None, 128)               0         \n",
      "                                                                 \n",
      " dropout_4 (Dropout)         (None, 128)               0         \n",
      "                                                                 \n",
      " dense2 (Dense)              (None, 64)                8256      \n",
      "                                                                 \n",
      " activation_5 (Activation)   (None, 64)                0         \n",
      "                                                                 \n",
      " dropout_5 (Dropout)         (None, 64)                0         \n",
      "                                                                 \n",
      " dense3 (Dense)              (None, 32)                2080      \n",
      "                                                                 \n",
      " activation_6 (Activation)   (None, 32)                0         \n",
      "                                                                 \n",
      " dense_1 (Dense)             (None, 5)                 165       \n",
      "                                                                 \n",
      "=================================================================\n",
      "Total params: 24750981 (94.42 MB)\n",
      "Trainable params: 24750981 (94.42 MB)\n",
      "Non-trainable params: 0 (0.00 Byte)\n",
      "_________________________________________________________________\n"
     ]
    }
   ],
   "source": [
    "model = build_model(input_shape=input_shape)\n",
    "model.summary()"
   ]
  },
  {
   "cell_type": "code",
   "execution_count": 20,
   "metadata": {},
   "outputs": [
    {
     "name": "stdout",
     "output_type": "stream",
     "text": [
      "WARNING:tensorflow:From c:\\anaconda3\\envs\\ml-hus\\lib\\site-packages\\keras\\src\\optimizers\\__init__.py:309: The name tf.train.Optimizer is deprecated. Please use tf.compat.v1.train.Optimizer instead.\n",
      "\n"
     ]
    }
   ],
   "source": [
    "model.compile(optimizer='adam',\n",
    "                loss='categorical_crossentropy',\n",
    "                metrics=['accuracy'])"
   ]
  },
  {
   "cell_type": "code",
   "execution_count": 21,
   "metadata": {},
   "outputs": [],
   "source": [
    "now = datetime.now().strftime('%d-%m-%Y_%H-%M')\n",
    "\n",
    "checkpoint_callback = ModelCheckpoint(filepath=f\"../model/ModelCheckPoint/{now}/\" + \"model.{epoch:03d}-{val_loss:.4f}-{val_accuracy:.4f}.h5\",\n",
    "                                      monitor='val_loss',\n",
    "                                      save_best_only=True,\n",
    "                                      save_weights_only=False,\n",
    "                                      verbose=1)\n",
    "tensorboard_callback = TensorBoard(log_dir=f\"../model/TensorBoard/{now}/logs\")\n",
    "\n",
    "folder_logger_path = f\"../model/CSVLogger/{now}\"\n",
    "\n",
    "if os.path.exists(folder_logger_path) and os.path.isdir(folder_logger_path):\n",
    "    os.rmdir(folder_logger_path)\n",
    "os.makedirs(folder_logger_path)\n",
    "\n",
    "csv_logger_callback = CSVLogger(f\"{folder_logger_path}/training.log\")"
   ]
  },
  {
   "cell_type": "code",
   "execution_count": 22,
   "metadata": {},
   "outputs": [],
   "source": [
    "model.fit(X_train, y_train, \n",
    "          epochs=100,\n",
    "          validation_split=.2,  \n",
    "          batch_size=32,\n",
    "          callbacks=[checkpoint_callback,\n",
    "                     tensorboard_callback,\n",
    "                     csv_logger_callback]\n",
    "          )\n",
    "model.save(f\"../model/FinalModel/{now}/model.h5\")"
   ]
  },
  {
   "cell_type": "code",
   "execution_count": 27,
   "metadata": {},
   "outputs": [
    {
     "name": "stdout",
     "output_type": "stream",
     "text": [
      "1/1 [==============================] - 0s 333ms/step\n"
     ]
    }
   ],
   "source": [
    "y_pred = model.predict(X_test)"
   ]
  },
  {
   "cell_type": "code",
   "execution_count": 28,
   "metadata": {},
   "outputs": [
    {
     "data": {
      "text/plain": [
       "array([[0., 1., 0., 0., 0.]], dtype=float32)"
      ]
     },
     "execution_count": 28,
     "metadata": {},
     "output_type": "execute_result"
    }
   ],
   "source": [
    "y_test"
   ]
  },
  {
   "cell_type": "code",
   "execution_count": 29,
   "metadata": {},
   "outputs": [
    {
     "data": {
      "text/plain": [
       "array([[0.20089799, 0.19670978, 0.1969538 , 0.20947286, 0.19596557]],\n",
       "      dtype=float32)"
      ]
     },
     "execution_count": 29,
     "metadata": {},
     "output_type": "execute_result"
    }
   ],
   "source": [
    "y_pred"
   ]
  },
  {
   "cell_type": "code",
   "execution_count": 19,
   "metadata": {},
   "outputs": [
    {
     "name": "stdout",
     "output_type": "stream",
     "text": [
      "1/1 [==============================] - 0s 42ms/step - loss: 0.9786 - accuracy: 0.0000e+00\n"
     ]
    },
    {
     "data": {
      "text/plain": [
       "[0.9785565733909607, 0.0]"
      ]
     },
     "execution_count": 19,
     "metadata": {},
     "output_type": "execute_result"
    }
   ],
   "source": [
    "model.evaluate(X_test, y_test)"
   ]
  }
 ],
 "metadata": {
  "kernelspec": {
   "display_name": "ml-hus",
   "language": "python",
   "name": "python3"
  },
  "language_info": {
   "codemirror_mode": {
    "name": "ipython",
    "version": 3
   },
   "file_extension": ".py",
   "mimetype": "text/x-python",
   "name": "python",
   "nbconvert_exporter": "python",
   "pygments_lexer": "ipython3",
   "version": "3.9.16"
  }
 },
 "nbformat": 4,
 "nbformat_minor": 2
}
