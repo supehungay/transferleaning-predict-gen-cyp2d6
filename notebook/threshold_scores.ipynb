{
 "cells": [
  {
   "cell_type": "code",
   "execution_count": 17,
   "metadata": {},
   "outputs": [],
   "source": [
    "import numpy as np\n",
    "import pandas as pd\n",
    "from keras.models import load_model\n",
    "import glob\n",
    "import joblib"
   ]
  },
  {
   "cell_type": "code",
   "execution_count": 10,
   "metadata": {},
   "outputs": [],
   "source": [
    "TRAIN_PATH = '../data/final_model/train/train_data.joblib'\n",
    "FOLDER_MODEL = '../model/FINAL_MODEL/03-06-2024_11-51/'"
   ]
  },
  {
   "cell_type": "code",
   "execution_count": 11,
   "metadata": {},
   "outputs": [],
   "source": [
    "def load_data(path_data: str) -> tuple:\n",
    "    X = None\n",
    "    y = None\n",
    "    data_loaded = joblib.load(path_data)\n",
    "    X = data_loaded['X']\n",
    "    y = data_loaded['y']\n",
    "    \n",
    "    all_stars = np.array([s.split('_')[1] for s in data_loaded['sample_names']]) # lấy ra star alen: 10, 1, 2, ...\n",
    "    stars, idx = np.unique(all_stars, return_index=True)\n",
    "    sample_mask = np.isin(all_stars, all_stars[idx]) # Đánh dấu những star allele của idx trong all_stars\n",
    "    stars_001 = np.array([s for s in data_loaded['sample_names'][sample_mask] if s.split('_')[-1] == '001']) \n",
    "    mark_001 = np.isin(data_loaded['sample_names'], stars_001)\n",
    "    X_001, y_001 = X[mark_001], y[mark_001]\n",
    "    \n",
    "    dataset = [(X, y), (X_001, y_001)]\n",
    "    \n",
    "    return dataset"
   ]
  },
  {
   "cell_type": "code",
   "execution_count": 12,
   "metadata": {},
   "outputs": [],
   "source": [
    "dataset_trainning = load_data(path_data=TRAIN_PATH)"
   ]
  },
  {
   "cell_type": "code",
   "execution_count": 18,
   "metadata": {},
   "outputs": [],
   "source": [
    "X = dataset_trainning[0][0]\n",
    "y = dataset_trainning[0][1]"
   ]
  },
  {
   "cell_type": "code",
   "execution_count": 14,
   "metadata": {},
   "outputs": [],
   "source": [
    "def predict_probs(X):\n",
    "    models = glob.glob(FOLDER_MODEL + \"*.model.h5\")\n",
    "    predicts = [] \n",
    "    for m in models: \n",
    "        model = load_model(m)       \n",
    "        predict = model.predict(X)\n",
    "        predicts.append(predict)\n",
    "        \n",
    "    return np.array(predicts).mean(axis=0)"
   ]
  },
  {
   "cell_type": "code",
   "execution_count": 35,
   "metadata": {},
   "outputs": [],
   "source": [
    "def save2csv(probs, y):\n",
    "    match = np.concatenate((y, probs), axis=1)\n",
    "    df = pd.DataFrame(match, columns=['origin_label_1', 'origin_label_2', 'No.Function', 'Normal.Function'])\n",
    "    df['origin_label_1'] = df['origin_label_1'].apply(lambda x: 'Y' if x == 1.0 else 'N')\n",
    "    df['origin_label_2'] = df['origin_label_2'].apply(lambda x: 'Y' if x == 1.0 else 'N')\n",
    "    \n",
    "    df.to_csv('../data/final_model/probs_getThreshold.csv', index=False)\n",
    "    print('Done!')"
   ]
  },
  {
   "cell_type": "code",
   "execution_count": 27,
   "metadata": {},
   "outputs": [
    {
     "name": "stdout",
     "output_type": "stream",
     "text": [
      "5/5 [==============================] - 0s 34ms/step\n",
      "5/5 [==============================] - 0s 34ms/step\n",
      "5/5 [==============================] - 0s 30ms/step\n",
      "5/5 [==============================] - 0s 29ms/step\n",
      "5/5 [==============================] - 0s 30ms/step\n",
      "5/5 [==============================] - 0s 30ms/step\n",
      "5/5 [==============================] - 0s 32ms/step\n"
     ]
    }
   ],
   "source": [
    "probs = predict_probs(X)"
   ]
  },
  {
   "cell_type": "code",
   "execution_count": 36,
   "metadata": {},
   "outputs": [
    {
     "name": "stdout",
     "output_type": "stream",
     "text": [
      "Done!\n"
     ]
    }
   ],
   "source": [
    "save2csv(probs, y)"
   ]
  }
 ],
 "metadata": {
  "kernelspec": {
   "display_name": "ml-hus",
   "language": "python",
   "name": "python3"
  },
  "language_info": {
   "codemirror_mode": {
    "name": "ipython",
    "version": 3
   },
   "file_extension": ".py",
   "mimetype": "text/x-python",
   "name": "python",
   "nbconvert_exporter": "python",
   "pygments_lexer": "ipython3",
   "version": "3.9.16"
  }
 },
 "nbformat": 4,
 "nbformat_minor": 2
}
