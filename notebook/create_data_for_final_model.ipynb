{
 "cells": [
  {
   "cell_type": "code",
   "execution_count": 28,
   "metadata": {},
   "outputs": [],
   "source": [
    "import pandas as pd\n",
    "import numpy as np\n",
    "from sklearn.model_selection import train_test_split\n",
    "from keras.layers import Input, Dense, Flatten, Conv1D, MaxPooling1D, BatchNormalization, Activation, Dropout\n",
    "from keras.models import Model\n",
    "\n",
    "import tensorflow as tf\n",
    "import sys\n",
    "sys.path.append('../src/')\n",
    "import vcf2onehot\n",
    "\n",
    "from keras.models import load_model"
   ]
  },
  {
   "cell_type": "code",
   "execution_count": 29,
   "metadata": {},
   "outputs": [],
   "source": [
    "STAR_SAMPLE = '../data/final_model/star_samples.vcf'\n",
    "\n",
    "CURATED_FUNCTION = '../data/final_model/pcbi.1008399.s003.xlsx'\n",
    "# CURATED_FUNCTION = '../data/final_model/star_scores.csv'\n",
    "\n",
    "PATH_LABEL_SAVE = '../data/final_model/labels_alleles.csv'"
   ]
  },
  {
   "cell_type": "code",
   "execution_count": 30,
   "metadata": {},
   "outputs": [],
   "source": [
    "alleles_function = pd.read_excel(CURATED_FUNCTION, usecols=[0, 1])"
   ]
  },
  {
   "cell_type": "code",
   "execution_count": 31,
   "metadata": {},
   "outputs": [
    {
     "data": {
      "text/html": [
       "<div>\n",
       "<style scoped>\n",
       "    .dataframe tbody tr th:only-of-type {\n",
       "        vertical-align: middle;\n",
       "    }\n",
       "\n",
       "    .dataframe tbody tr th {\n",
       "        vertical-align: top;\n",
       "    }\n",
       "\n",
       "    .dataframe thead th {\n",
       "        text-align: right;\n",
       "    }\n",
       "</style>\n",
       "<table border=\"1\" class=\"dataframe\">\n",
       "  <thead>\n",
       "    <tr style=\"text-align: right;\">\n",
       "      <th></th>\n",
       "      <th>CYP2D6 Star Allele</th>\n",
       "      <th>Curated Function</th>\n",
       "    </tr>\n",
       "  </thead>\n",
       "  <tbody>\n",
       "    <tr>\n",
       "      <th>0</th>\n",
       "      <td>*1</td>\n",
       "      <td>Normal</td>\n",
       "    </tr>\n",
       "    <tr>\n",
       "      <th>1</th>\n",
       "      <td>*2</td>\n",
       "      <td>Normal</td>\n",
       "    </tr>\n",
       "    <tr>\n",
       "      <th>2</th>\n",
       "      <td>*3</td>\n",
       "      <td>No function</td>\n",
       "    </tr>\n",
       "    <tr>\n",
       "      <th>3</th>\n",
       "      <td>*4</td>\n",
       "      <td>No function</td>\n",
       "    </tr>\n",
       "    <tr>\n",
       "      <th>4</th>\n",
       "      <td>*6</td>\n",
       "      <td>No function</td>\n",
       "    </tr>\n",
       "    <tr>\n",
       "      <th>...</th>\n",
       "      <td>...</td>\n",
       "      <td>...</td>\n",
       "    </tr>\n",
       "    <tr>\n",
       "      <th>122</th>\n",
       "      <td>*135</td>\n",
       "      <td>Uncurated</td>\n",
       "    </tr>\n",
       "    <tr>\n",
       "      <th>123</th>\n",
       "      <td>*136</td>\n",
       "      <td>Uncurated</td>\n",
       "    </tr>\n",
       "    <tr>\n",
       "      <th>124</th>\n",
       "      <td>*137</td>\n",
       "      <td>Uncurated</td>\n",
       "    </tr>\n",
       "    <tr>\n",
       "      <th>125</th>\n",
       "      <td>*138</td>\n",
       "      <td>Uncurated</td>\n",
       "    </tr>\n",
       "    <tr>\n",
       "      <th>126</th>\n",
       "      <td>*139</td>\n",
       "      <td>Uncurated</td>\n",
       "    </tr>\n",
       "  </tbody>\n",
       "</table>\n",
       "<p>127 rows × 2 columns</p>\n",
       "</div>"
      ],
      "text/plain": [
       "    CYP2D6 Star Allele Curated Function\n",
       "0                   *1           Normal\n",
       "1                   *2           Normal\n",
       "2                   *3      No function\n",
       "3                   *4      No function\n",
       "4                   *6      No function\n",
       "..                 ...              ...\n",
       "122               *135        Uncurated\n",
       "123               *136        Uncurated\n",
       "124               *137        Uncurated\n",
       "125               *138        Uncurated\n",
       "126               *139        Uncurated\n",
       "\n",
       "[127 rows x 2 columns]"
      ]
     },
     "execution_count": 31,
     "metadata": {},
     "output_type": "execute_result"
    }
   ],
   "source": [
    "alleles_function"
   ]
  },
  {
   "cell_type": "code",
   "execution_count": 32,
   "metadata": {},
   "outputs": [],
   "source": [
    "samples = []\n",
    "with open(STAR_SAMPLE) as f:\n",
    "    for line in f:\n",
    "        if line.startswith(\"#CHROM\"):\n",
    "            samples = line.strip().split()[9:]\n",
    "            break\n"
   ]
  },
  {
   "cell_type": "code",
   "execution_count": 33,
   "metadata": {},
   "outputs": [],
   "source": [
    "labels = []\n",
    "for sample in samples:\n",
    "    star = \"*\" + str(sample.split(\"_\")[1])\n",
    "    label = alleles_function[alleles_function[\"CYP2D6 Star Allele\"] == star][\"Curated Function\"].values[0]\n",
    "\n",
    "    if label == \"Uncurated\":\n",
    "        no_function = None\n",
    "        normal_function = None\n",
    "    else:\n",
    "        no_function = 0 if label == \"No function\" else 1\n",
    "        normal_function = 1 if label == \"Normal\" else 0\n",
    "\n",
    "    labels.append([sample, no_function, normal_function])"
   ]
  },
  {
   "cell_type": "code",
   "execution_count": 34,
   "metadata": {},
   "outputs": [
    {
     "name": "stdout",
     "output_type": "stream",
     "text": [
      "Saved labels to ../data/final_model/labels_alleles.csv\n"
     ]
    }
   ],
   "source": [
    "label_df = pd.DataFrame(labels)\n",
    "label_df.to_csv(PATH_LABEL_SAVE, index=False, header=None)\n",
    "print(\"Saved labels to %s\" % PATH_LABEL_SAVE)"
   ]
  },
  {
   "cell_type": "code",
   "execution_count": 35,
   "metadata": {},
   "outputs": [],
   "source": [
    "seqs = vcf2onehot.build_seqs(STAR_SAMPLE)\n",
    "data = vcf2onehot.format_seqs(seqs)\n",
    "data['y'] = pd.read_csv(PATH_LABEL_SAVE, header=None, index_col=0).loc[samples].values"
   ]
  },
  {
   "cell_type": "code",
   "execution_count": 36,
   "metadata": {},
   "outputs": [],
   "source": [
    "mask = np.all(np.isnan(data['y']) == False, axis=1)\n",
    "\n",
    "sample_y = data['y'][mask]\n",
    "sample_X = data['X'][mask]\n",
    "sample_names = data['sample_names'][mask]"
   ]
  },
  {
   "cell_type": "code",
   "execution_count": 37,
   "metadata": {},
   "outputs": [],
   "source": [
    "all_stars = np.array([s.split('_')[1] for s in sample_names])\n",
    "stars, idx = np.unique(all_stars, return_index=True)"
   ]
  },
  {
   "cell_type": "code",
   "execution_count": 38,
   "metadata": {},
   "outputs": [
    {
     "data": {
      "text/plain": [
       "array(['100', '10', '10', '10', '10', '1', '1', '1', '1', '1', '1', '1',\n",
       "       '1', '1', '100', '101', '1', '1', '1', '1', '1', '1', '1', '1',\n",
       "       '1', '1', '101', '1', '1', '1', '1', '1', '1', '1', '1', '1', '1',\n",
       "       '1', '1', '1', '10', '11', '114', '114', '11', '12', '12', '12',\n",
       "       '14', '14', '15', '15', '15', '15', '17', '17', '17', '17', '18',\n",
       "       '18', '19', '19', '20', '2', '2', '2', '2', '2', '2', '2', '2',\n",
       "       '2', '2', '2', '2', '2', '2', '2', '2', '2', '2', '2', '2', '20',\n",
       "       '21', '21', '21', '27', '27', '29', '29', '3', '3', '31', '31',\n",
       "       '33', '33', '34', '35', '35', '35', '35', '35', '35', '35', '35',\n",
       "       '36', '36', '36', '38', '38', '39', '3', '40', '4', '4', '4', '4',\n",
       "       '4', '4', '4', '4', '4', '4', '4', '4', '4', '4', '4', '4', '4',\n",
       "       '4', '4', '4', '4', '4', '4', '4', '4', '4', '4', '4', '40', '41',\n",
       "       '41', '41', '41', '41', '41', '42', '42', '44', '44', '45', '45',\n",
       "       '45', '46', '46', '46', '46', '47', '47', '48', '48', '49', '49',\n",
       "       '4', '50', '50', '51', '51', '53', '53', '54', '54', '55', '55',\n",
       "       '56', '56', '56', '56', '57', '57', '59', '59', '60', '6', '6',\n",
       "       '6', '6', '6', '6', '60', '62', '62', '69', '69', '6', '7', '72',\n",
       "       '72', '7', '8', '84', '84', '84', '8', '9', '9', '92', '92', '96',\n",
       "       '96', '99', '99', '9'], dtype='<U3')"
      ]
     },
     "execution_count": 38,
     "metadata": {},
     "output_type": "execute_result"
    }
   ],
   "source": [
    "all_stars"
   ]
  },
  {
   "cell_type": "code",
   "execution_count": 39,
   "metadata": {},
   "outputs": [
    {
     "data": {
      "text/plain": [
       "(55,)"
      ]
     },
     "execution_count": 39,
     "metadata": {},
     "output_type": "execute_result"
    }
   ],
   "source": [
    "stars.shape"
   ]
  },
  {
   "cell_type": "code",
   "execution_count": 40,
   "metadata": {},
   "outputs": [
    {
     "data": {
      "text/plain": [
       "array(['1', '10', '100', '101', '11', '114', '12', '14', '15', '17', '18',\n",
       "       '19', '2', '20', '21', '27', '29', '3', '31', '33', '34', '35',\n",
       "       '36', '38', '39', '4', '40', '41', '42', '44', '45', '46', '47',\n",
       "       '48', '49', '50', '51', '53', '54', '55', '56', '57', '59', '6',\n",
       "       '60', '62', '69', '7', '72', '8', '84', '9', '92', '96', '99'],\n",
       "      dtype='<U3')"
      ]
     },
     "execution_count": 40,
     "metadata": {},
     "output_type": "execute_result"
    }
   ],
   "source": [
    "stars"
   ]
  },
  {
   "cell_type": "code",
   "execution_count": 41,
   "metadata": {},
   "outputs": [
    {
     "data": {
      "text/plain": [
       "(55, 2)"
      ]
     },
     "execution_count": 41,
     "metadata": {},
     "output_type": "execute_result"
    }
   ],
   "source": [
    "sample_y[idx].shape"
   ]
  },
  {
   "cell_type": "code",
   "execution_count": 42,
   "metadata": {},
   "outputs": [
    {
     "data": {
      "text/plain": [
       "(array([[0., 0.],\n",
       "        [1., 0.],\n",
       "        [1., 1.]]),\n",
       " array([31, 13, 11], dtype=int64))"
      ]
     },
     "execution_count": 42,
     "metadata": {},
     "output_type": "execute_result"
    }
   ],
   "source": [
    "np.unique(sample_y[idx], return_counts=True, axis=0)\n"
   ]
  },
  {
   "cell_type": "code",
   "execution_count": 43,
   "metadata": {},
   "outputs": [],
   "source": [
    "train_idx, test_idx = train_test_split(idx, stratify=sample_y[idx], test_size=24, random_state=1)"
   ]
  },
  {
   "cell_type": "code",
   "execution_count": 44,
   "metadata": {},
   "outputs": [
    {
     "data": {
      "text/plain": [
       "array([175, 153,  42,  63, 199, 181, 143,  41, 185,  97, 177,  91, 203,\n",
       "       151,  98, 160, 169,   5, 186, 202, 198,  89, 195,  54,  45,  58,\n",
       "       164,  87, 193, 114, 109], dtype=int64)"
      ]
     },
     "execution_count": 44,
     "metadata": {},
     "output_type": "execute_result"
    }
   ],
   "source": [
    "train_idx"
   ]
  },
  {
   "cell_type": "code",
   "execution_count": 45,
   "metadata": {},
   "outputs": [
    {
     "data": {
      "text/plain": [
       "array([171, 113,   0,  93,  50, 162, 209,  48,   1, 156, 111, 183, 149,\n",
       "       167,  62, 211, 173, 207, 106,  15,  60,  84, 213,  95], dtype=int64)"
      ]
     },
     "execution_count": 45,
     "metadata": {},
     "output_type": "execute_result"
    }
   ],
   "source": [
    "test_idx"
   ]
  },
  {
   "cell_type": "code",
   "execution_count": 46,
   "metadata": {},
   "outputs": [],
   "source": [
    "sample_mask = np.isin(all_stars, all_stars[train_idx])"
   ]
  },
  {
   "cell_type": "code",
   "execution_count": 47,
   "metadata": {},
   "outputs": [],
   "source": [
    "test_stars = np.array([s for s in sample_names[~sample_mask] if s.split('_')[-1] == '001'])\n",
    "test_mask = np.isin(sample_names, test_stars)\n",
    "\n",
    "train_stars = np.array([s for s in sample_names[sample_mask] if s.split('_')[-1] == '001'])\n",
    "train_mask = np.isin(sample_names, train_stars)\n",
    "\n",
    "# Split the data into the two sets - INCLUDING SUBALLES ON BOTH\n",
    "_train_X, test_X = sample_X[sample_mask], sample_X[~sample_mask]\n",
    "_train_y, test_y = sample_y[sample_mask], sample_y[~sample_mask]\n",
    "\n",
    "# Purely for evaluation (paper looks at star allele accuracy rather than star + suballeles)\n",
    "star_train_X, star_test_X = sample_X[train_mask], sample_X[test_mask]\n",
    "star_train_y, star_test_y = sample_y[train_mask], sample_y[test_mask]"
   ]
  },
  {
   "cell_type": "code",
   "execution_count": 48,
   "metadata": {},
   "outputs": [
    {
     "data": {
      "text/plain": [
       "((31, 14868, 13), (24, 14868, 13))"
      ]
     },
     "execution_count": 48,
     "metadata": {},
     "output_type": "execute_result"
    }
   ],
   "source": [
    "star_train_X.shape, star_test_X.shape"
   ]
  },
  {
   "cell_type": "code",
   "execution_count": 49,
   "metadata": {},
   "outputs": [
    {
     "data": {
      "text/plain": [
       "((array([[0., 0.],\n",
       "         [1., 0.],\n",
       "         [1., 1.]]),\n",
       "  array([18,  7,  6], dtype=int64)),\n",
       " (array([[0., 0.],\n",
       "         [1., 0.],\n",
       "         [1., 1.]]),\n",
       "  array([13,  6,  5], dtype=int64)))"
      ]
     },
     "execution_count": 49,
     "metadata": {},
     "output_type": "execute_result"
    }
   ],
   "source": [
    "np.unique(star_train_y, return_counts=True, axis=0), np.unique(star_test_y, return_counts=True, axis=0)"
   ]
  },
  {
   "cell_type": "code",
   "execution_count": 50,
   "metadata": {},
   "outputs": [],
   "source": [
    "_train_ds = tf.data.Dataset.from_tensor_slices((_train_X, _train_y))\n",
    "train_ds = _train_ds.repeat().shuffle(_train_X.shape[0], reshuffle_each_iteration=True).batch(32).prefetch(buffer_size=10)\n",
    "\n",
    "_test_ds = tf.data.Dataset.from_tensors((test_X, test_y))\n",
    "test_ds = _test_ds.prefetch(buffer_size=10)"
   ]
  },
  {
   "cell_type": "code",
   "execution_count": 51,
   "metadata": {},
   "outputs": [],
   "source": [
    "# Uncurated star alleles\n",
    "uncurated_samples = data['sample_names'][~mask]\n",
    "uncurated_stars = np.array([s for s in uncurated_samples if s.split('_')[-1] == '001'])\n",
    "uncurated_star_mask = np.isin(uncurated_samples, uncurated_stars)\n",
    "\n",
    "uncurated_samples = uncurated_samples[uncurated_star_mask]\n",
    "uncurated_X = data['X'][(~mask).reshape(-1, 1).any(axis=1)]\n",
    "uncurated_X = uncurated_X[uncurated_star_mask]"
   ]
  },
  {
   "cell_type": "code",
   "execution_count": 52,
   "metadata": {},
   "outputs": [
    {
     "data": {
      "text/plain": [
       "(71, 14868, 13)"
      ]
     },
     "execution_count": 52,
     "metadata": {},
     "output_type": "execute_result"
    }
   ],
   "source": [
    "uncurated_X.shape"
   ]
  },
  {
   "cell_type": "code",
   "execution_count": 26,
   "metadata": {},
   "outputs": [],
   "source": [
    "def get_model_pretrained():\n",
    "    PATH_MODEL = '../save_model/FinalModel/final_25-03-2024_02-32/model.h5'\n",
    "    model = load_model(PATH_MODEL)\n",
    "    return model"
   ]
  },
  {
   "cell_type": "code",
   "execution_count": 27,
   "metadata": {},
   "outputs": [],
   "source": [
    "def create_transfer_model():\n",
    "    model = get_model_pretrained()\n",
    "    model.pop()\n",
    "    model.pop()\n",
    "    model.pop()\n",
    "    model.trainable = False\n",
    "\n",
    "    layer = Dense(units=32, activation='relu', name='dense5')(model.output)\n",
    "    layer = Dropout(0.3, name='dropout_4')(layer)\n",
    "    layer = Dense(units=1, activation='linear', name='dense6')(layer)\n",
    "    outputs = Dense(units=2, activation='sigmoid')(layer)\n",
    "\n",
    "    transfer_model = Model(inputs=model.input, outputs=outputs, name='transfer_model')\n",
    "    \n",
    "    return transfer_model\n",
    "    "
   ]
  },
  {
   "cell_type": "code",
   "execution_count": 142,
   "metadata": {},
   "outputs": [],
   "source": [
    "def build_and_fit(dataset):\n",
    "    model = create_transfer_model()\n",
    "    model.compile(optimizer='adam',\n",
    "              loss=tf.keras.losses.MeanSquaredError(),\n",
    "              metrics=[tf.keras.metrics.AUC()]\n",
    "              )\n",
    "    model.fit(dataset, steps_per_epoch=128 ,epochs=10, verbose=True)\n",
    "    \n",
    "    return model\n",
    "    "
   ]
  },
  {
   "cell_type": "code",
   "execution_count": 143,
   "metadata": {},
   "outputs": [
    {
     "name": "stdout",
     "output_type": "stream",
     "text": [
      "Model: \"transfer_model\"\n",
      "_________________________________________________________________\n",
      " Layer (type)                Output Shape              Param #   \n",
      "=================================================================\n",
      " conv1d_1_input (InputLayer  [(None, 14868, 13)]       0         \n",
      " )                                                               \n",
      "                                                                 \n",
      " conv1d_1 (Conv1D)           (None, 2970, 70)          17360     \n",
      "                                                                 \n",
      " batch_1 (BatchNormalizatio  (None, 2970, 70)          280       \n",
      " n)                                                              \n",
      "                                                                 \n",
      " relu_1 (ReLU)               (None, 2970, 70)          0         \n",
      "                                                                 \n",
      " maxpooling_1 (MaxPooling1D  (None, 990, 70)           0         \n",
      " )                                                               \n",
      "                                                                 \n",
      " conv1d_2 (Conv1D)           (None, 196, 46)           35466     \n",
      "                                                                 \n",
      " batch_2 (BatchNormalizatio  (None, 196, 46)           184       \n",
      " n)                                                              \n",
      "                                                                 \n",
      " relu_2 (ReLU)               (None, 196, 46)           0         \n",
      "                                                                 \n",
      " maxpooling_2 (MaxPooling1D  (None, 49, 46)            0         \n",
      " )                                                               \n",
      "                                                                 \n",
      " conv1d_3 (Conv1D)           (None, 9, 46)             14858     \n",
      "                                                                 \n",
      " batch_3 (BatchNormalizatio  (None, 9, 46)             184       \n",
      " n)                                                              \n",
      "                                                                 \n",
      " relu_3 (ReLU)               (None, 9, 46)             0         \n",
      "                                                                 \n",
      " maxpooling_3 (MaxPooling1D  (None, 2, 46)             0         \n",
      " )                                                               \n",
      "                                                                 \n",
      " flatten_3 (Flatten)         (None, 92)                0         \n",
      "                                                                 \n",
      " dense5 (Dense)              (None, 32)                2976      \n",
      "                                                                 \n",
      " dropout_4 (Dropout)         (None, 32)                0         \n",
      "                                                                 \n",
      " dense6 (Dense)              (None, 1)                 33        \n",
      "                                                                 \n",
      " dense_20 (Dense)            (None, 2)                 4         \n",
      "                                                                 \n",
      "=================================================================\n",
      "Total params: 71345 (278.69 KB)\n",
      "Trainable params: 3013 (11.77 KB)\n",
      "Non-trainable params: 68332 (266.92 KB)\n",
      "_________________________________________________________________\n"
     ]
    }
   ],
   "source": [
    "model = create_transfer_model()\n",
    "model.summary()"
   ]
  },
  {
   "cell_type": "code",
   "execution_count": 144,
   "metadata": {},
   "outputs": [
    {
     "name": "stdout",
     "output_type": "stream",
     "text": [
      "ensemble_0.model.h5\n",
      "Epoch 1/10\n",
      "128/128 [==============================] - 6s 42ms/step - loss: 0.2367 - auc_16: 0.6231\n",
      "Epoch 2/10\n",
      "128/128 [==============================] - 7s 55ms/step - loss: 0.2110 - auc_16: 0.7005\n",
      "Epoch 3/10\n",
      "128/128 [==============================] - 8s 60ms/step - loss: 0.1948 - auc_16: 0.7498\n",
      "Epoch 4/10\n",
      "128/128 [==============================] - 8s 60ms/step - loss: 0.1761 - auc_16: 0.7755\n",
      "Epoch 5/10\n",
      "128/128 [==============================] - 8s 60ms/step - loss: 0.1558 - auc_16: 0.7867\n",
      "Epoch 6/10\n",
      "128/128 [==============================] - 7s 52ms/step - loss: 0.1351 - auc_16: 0.8973\n",
      "Epoch 7/10\n",
      "128/128 [==============================] - 7s 51ms/step - loss: 0.0847 - auc_16: 0.9567\n",
      "Epoch 8/10\n",
      "128/128 [==============================] - 7s 54ms/step - loss: 0.0633 - auc_16: 0.9741\n",
      "Epoch 9/10\n",
      "128/128 [==============================] - 7s 53ms/step - loss: 0.0542 - auc_16: 0.9804\n",
      "Epoch 10/10\n",
      "128/128 [==============================] - 7s 55ms/step - loss: 0.0485 - auc_16: 0.9840\n",
      "ensemble_1.model.h5\n"
     ]
    },
    {
     "name": "stderr",
     "output_type": "stream",
     "text": [
      "c:\\anaconda3\\envs\\ml-hus\\lib\\site-packages\\keras\\src\\engine\\training.py:3103: UserWarning: You are saving your model as an HDF5 file via `model.save()`. This file format is considered legacy. We recommend using instead the native Keras format, e.g. `model.save('my_model.keras')`.\n",
      "  saving_api.save_model(\n"
     ]
    },
    {
     "name": "stdout",
     "output_type": "stream",
     "text": [
      "Epoch 1/10\n",
      "128/128 [==============================] - 8s 49ms/step - loss: 0.1472 - auc_17: 0.8828\n",
      "Epoch 2/10\n",
      "128/128 [==============================] - 6s 50ms/step - loss: 0.0852 - auc_17: 0.9590\n",
      "Epoch 3/10\n",
      "128/128 [==============================] - 7s 52ms/step - loss: 0.0670 - auc_17: 0.9752\n",
      "Epoch 4/10\n",
      "128/128 [==============================] - 6s 49ms/step - loss: 0.0568 - auc_17: 0.9830\n",
      "Epoch 5/10\n",
      "128/128 [==============================] - 6s 49ms/step - loss: 0.0517 - auc_17: 0.9862\n",
      "Epoch 6/10\n",
      "128/128 [==============================] - 7s 51ms/step - loss: 0.0468 - auc_17: 0.9880\n",
      "Epoch 7/10\n",
      "128/128 [==============================] - 7s 52ms/step - loss: 0.0432 - auc_17: 0.9887\n",
      "Epoch 8/10\n",
      "128/128 [==============================] - 6s 50ms/step - loss: 0.0400 - auc_17: 0.9889\n",
      "Epoch 9/10\n",
      "128/128 [==============================] - 7s 54ms/step - loss: 0.0383 - auc_17: 0.9881\n",
      "Epoch 10/10\n",
      "128/128 [==============================] - 7s 54ms/step - loss: 0.0361 - auc_17: 0.9884\n",
      "ensemble_2.model.h5\n",
      "Epoch 1/10\n",
      "128/128 [==============================] - 8s 54ms/step - loss: 0.2488 - auc_18: 0.6050\n",
      "Epoch 2/10\n",
      "128/128 [==============================] - 7s 56ms/step - loss: 0.2193 - auc_18: 0.6574\n",
      "Epoch 3/10\n",
      "128/128 [==============================] - 7s 55ms/step - loss: 0.2092 - auc_18: 0.7066\n",
      "Epoch 4/10\n",
      "128/128 [==============================] - 7s 55ms/step - loss: 0.1938 - auc_18: 0.7495\n",
      "Epoch 5/10\n",
      "128/128 [==============================] - 7s 55ms/step - loss: 0.1749 - auc_18: 0.7752\n",
      "Epoch 6/10\n",
      "128/128 [==============================] - 7s 57ms/step - loss: 0.1548 - auc_18: 0.7854\n",
      "Epoch 7/10\n",
      "128/128 [==============================] - 7s 55ms/step - loss: 0.1383 - auc_18: 0.8919\n",
      "Epoch 8/10\n",
      "128/128 [==============================] - 7s 55ms/step - loss: 0.0904 - auc_18: 0.9529\n",
      "Epoch 9/10\n",
      "128/128 [==============================] - 7s 55ms/step - loss: 0.0605 - auc_18: 0.9783\n",
      "Epoch 10/10\n",
      "128/128 [==============================] - 7s 55ms/step - loss: 0.0519 - auc_18: 0.9830\n",
      "ensemble_3.model.h5\n",
      "Epoch 1/10\n",
      "128/128 [==============================] - 8s 53ms/step - loss: 0.2446 - auc_19: 0.6350\n",
      "Epoch 2/10\n",
      "128/128 [==============================] - 7s 55ms/step - loss: 0.1890 - auc_19: 0.7506\n",
      "Epoch 3/10\n",
      "128/128 [==============================] - 7s 55ms/step - loss: 0.1393 - auc_19: 0.8829\n",
      "Epoch 4/10\n",
      "128/128 [==============================] - 7s 55ms/step - loss: 0.0788 - auc_19: 0.9654\n",
      "Epoch 5/10\n",
      "128/128 [==============================] - 7s 56ms/step - loss: 0.0617 - auc_19: 0.9782\n",
      "Epoch 6/10\n",
      "128/128 [==============================] - 7s 54ms/step - loss: 0.0549 - auc_19: 0.9829\n",
      "Epoch 7/10\n",
      "128/128 [==============================] - 7s 56ms/step - loss: 0.0486 - auc_19: 0.9869\n",
      "Epoch 8/10\n",
      "128/128 [==============================] - 7s 53ms/step - loss: 0.0454 - auc_19: 0.9874\n",
      "Epoch 9/10\n",
      "128/128 [==============================] - 7s 56ms/step - loss: 0.0436 - auc_19: 0.9879\n",
      "Epoch 10/10\n",
      "128/128 [==============================] - 7s 56ms/step - loss: 0.0400 - auc_19: 0.9881\n",
      "ensemble_4.model.h5\n",
      "Epoch 1/10\n",
      "128/128 [==============================] - 8s 55ms/step - loss: 0.1148 - auc_20: 0.9200\n",
      "Epoch 2/10\n",
      "128/128 [==============================] - 7s 55ms/step - loss: 0.0698 - auc_20: 0.9718\n",
      "Epoch 3/10\n",
      "128/128 [==============================] - 7s 55ms/step - loss: 0.0568 - auc_20: 0.9824\n",
      "Epoch 4/10\n",
      "128/128 [==============================] - 7s 55ms/step - loss: 0.0518 - auc_20: 0.9854\n",
      "Epoch 5/10\n",
      "128/128 [==============================] - 7s 54ms/step - loss: 0.0463 - auc_20: 0.9883\n",
      "Epoch 6/10\n",
      "128/128 [==============================] - 7s 55ms/step - loss: 0.0426 - auc_20: 0.9896\n",
      "Epoch 7/10\n",
      "128/128 [==============================] - 7s 56ms/step - loss: 0.0404 - auc_20: 0.9901\n",
      "Epoch 8/10\n",
      "128/128 [==============================] - 7s 54ms/step - loss: 0.0377 - auc_20: 0.9912\n",
      "Epoch 9/10\n",
      "128/128 [==============================] - 7s 55ms/step - loss: 0.0359 - auc_20: 0.9912\n",
      "Epoch 10/10\n",
      "128/128 [==============================] - 7s 57ms/step - loss: 0.0340 - auc_20: 0.9910\n",
      "ensemble_5.model.h5\n",
      "Epoch 1/10\n",
      "128/128 [==============================] - 9s 54ms/step - loss: 0.2395 - auc_21: 0.6005\n",
      "Epoch 2/10\n",
      "128/128 [==============================] - 7s 55ms/step - loss: 0.2171 - auc_21: 0.6718\n",
      "Epoch 3/10\n",
      "128/128 [==============================] - 7s 56ms/step - loss: 0.1918 - auc_21: 0.7558\n",
      "Epoch 4/10\n",
      "128/128 [==============================] - 7s 54ms/step - loss: 0.1587 - auc_21: 0.7809\n",
      "Epoch 5/10\n",
      "128/128 [==============================] - 7s 57ms/step - loss: 0.1084 - auc_21: 0.9440\n",
      "Epoch 6/10\n",
      "128/128 [==============================] - 7s 56ms/step - loss: 0.0700 - auc_21: 0.9694\n",
      "Epoch 7/10\n",
      "128/128 [==============================] - 7s 55ms/step - loss: 0.0594 - auc_21: 0.9788\n",
      "Epoch 8/10\n",
      "128/128 [==============================] - 7s 54ms/step - loss: 0.0516 - auc_21: 0.9846\n",
      "Epoch 9/10\n",
      "128/128 [==============================] - 7s 57ms/step - loss: 0.0479 - auc_21: 0.9862\n",
      "Epoch 10/10\n",
      "128/128 [==============================] - 7s 56ms/step - loss: 0.0450 - auc_21: 0.9872\n",
      "ensemble_6.model.h5\n",
      "Epoch 1/10\n",
      "128/128 [==============================] - 8s 56ms/step - loss: 0.1340 - auc_22: 0.8919\n",
      "Epoch 2/10\n",
      "128/128 [==============================] - 7s 55ms/step - loss: 0.0777 - auc_22: 0.9645\n",
      "Epoch 3/10\n",
      "128/128 [==============================] - 7s 56ms/step - loss: 0.0619 - auc_22: 0.9785\n",
      "Epoch 4/10\n",
      "128/128 [==============================] - 7s 55ms/step - loss: 0.0536 - auc_22: 0.9849\n",
      "Epoch 5/10\n",
      "128/128 [==============================] - 7s 56ms/step - loss: 0.0468 - auc_22: 0.9885\n",
      "Epoch 6/10\n",
      "128/128 [==============================] - 7s 56ms/step - loss: 0.0432 - auc_22: 0.9896\n",
      "Epoch 7/10\n",
      "128/128 [==============================] - 7s 56ms/step - loss: 0.0393 - auc_22: 0.9909\n",
      "Epoch 8/10\n",
      "128/128 [==============================] - 7s 55ms/step - loss: 0.0377 - auc_22: 0.9908\n",
      "Epoch 9/10\n",
      "128/128 [==============================] - 7s 55ms/step - loss: 0.0355 - auc_22: 0.9915\n",
      "Epoch 10/10\n",
      "128/128 [==============================] - 7s 56ms/step - loss: 0.0341 - auc_22: 0.9915\n"
     ]
    }
   ],
   "source": [
    "ensemble_size = 7\n",
    "\n",
    "for i in range(ensemble_size):\n",
    "    print(f\"ensemble_{i}.model.h5\")\n",
    "    model = build_and_fit(train_ds)\n",
    "\n",
    "    model.save(f'../save_model/ensemble_{i}.model.h5')"
   ]
  },
  {
   "cell_type": "code",
   "execution_count": 1,
   "metadata": {},
   "outputs": [],
   "source": [
    "class Ensemble():\n",
    "    def __init__(self, X=None, dir='../model/FINAL_MODEL/'):\n",
    "        self.X = X\n",
    "        self.raw = None\n",
    "        self.predictions = None\n",
    "        self.dir = dir\n",
    "\n",
    "        self.run()\n",
    "\n",
    "    def run(self):\n",
    "        predictions = self.predict(self.X).mean(axis=0)\n",
    "        self.raw = predictions\n",
    "        self.predictions = self.get_functions(predictions)\n",
    "\n",
    "    def get_functions(self, pred):\n",
    "        # cutpoint_1 = 0.4260022\n",
    "        # cutpoint_2 = 0.7360413\n",
    "        \n",
    "        cutpoint_1 = 0.743              \n",
    "        cutpoint_2 = 0.77   \n",
    "\n",
    "        cut1 = np.greater(pred[:, 0], [cutpoint_1])\n",
    "        cut2 = np.greater(pred[:, 1], [cutpoint_2])\n",
    "\n",
    "        functions = []\n",
    "        for i in range(pred.shape[0]):\n",
    "            if cut1[i] == True and cut2[i] == True:\n",
    "                functions.append(\"Normal Function\")\n",
    "            elif cut1[i] == True and cut2[i] == False:\n",
    "                functions.append(\"Decreased Function\")\n",
    "            else:\n",
    "                functions.append(\"No Function\")\n",
    "\n",
    "        return np.array(functions)\n",
    "\n",
    "    def evaluate(self, y):\n",
    "        labels = self.get_functions(y)\n",
    "        return np.sum(labels == self.predictions) / len(y)\n",
    "\n",
    "    def predict(self, X):\n",
    "        from glob import glob\n",
    "        models = glob(self.dir + \"*.model.h5\")\n",
    "        \n",
    "        predictions = []\n",
    "        print(\"Predicting...\")\n",
    "        for m in models:\n",
    "        # print(f\"Predicting using {m}\")\n",
    "            model = tf.keras.models.load_model(m)\n",
    "        \n",
    "            pred = model.predict(X)\n",
    "            predictions.append(pred)\n",
    "\n",
    "        return np.array(predictions)"
   ]
  },
  {
   "cell_type": "code",
   "execution_count": 2,
   "metadata": {},
   "outputs": [
    {
     "ename": "NameError",
     "evalue": "name 'star_train_X' is not defined",
     "output_type": "error",
     "traceback": [
      "\u001b[1;31m---------------------------------------------------------------------------\u001b[0m",
      "\u001b[1;31mNameError\u001b[0m                                 Traceback (most recent call last)",
      "Cell \u001b[1;32mIn[2], line 3\u001b[0m\n\u001b[0;32m      1\u001b[0m \u001b[38;5;66;03m# Original paper attains 100% accuracy on training data star alleles\u001b[39;00m\n\u001b[1;32m----> 3\u001b[0m star_train_ensemble \u001b[38;5;241m=\u001b[39m Ensemble(\u001b[43mstar_train_X\u001b[49m, \u001b[38;5;28mdir\u001b[39m\u001b[38;5;241m=\u001b[39m\u001b[38;5;124m'\u001b[39m\u001b[38;5;124m../model/FINAL_MODEL/\u001b[39m\u001b[38;5;124m'\u001b[39m)\n\u001b[0;32m      4\u001b[0m \u001b[38;5;28mprint\u001b[39m(\u001b[38;5;124m\"\u001b[39m\u001b[38;5;130;01m\\n\u001b[39;00m\u001b[38;5;124mTraining Accuracy (only star alleles):\u001b[39m\u001b[38;5;124m\"\u001b[39m, star_train_ensemble\u001b[38;5;241m.\u001b[39mevaluate(star_train_y))\n",
      "\u001b[1;31mNameError\u001b[0m: name 'star_train_X' is not defined"
     ]
    }
   ],
   "source": [
    "# Original paper attains 100% accuracy on training data star alleles\n",
    "\n",
    "star_train_ensemble = Ensemble(star_train_X, dir='../model/FINAL_MODEL/')\n",
    "print(\"\\nTraining Accuracy (only star alleles):\", star_train_ensemble.evaluate(star_train_y))"
   ]
  },
  {
   "cell_type": "code",
   "execution_count": null,
   "metadata": {},
   "outputs": [],
   "source": [
    "import seaborn as sb\n",
    "import matplotlib.pyplot as plt\n",
    "\n",
    "def build_heatmap(pred, y, labels):\n",
    "  heatmap = []\n",
    "  for label in labels:\n",
    "    mask = pred == label\n",
    "    masked_labels = y[mask]\n",
    "    heatmap.append([len(masked_labels[masked_labels == l]) for l in reversed(labels)])\n",
    "\n",
    "  return heatmap"
   ]
  },
  {
   "cell_type": "code",
   "execution_count": null,
   "metadata": {},
   "outputs": [
    {
     "data": {
      "text/plain": [
       "Text(0.5, 1.0, 'Training set')"
      ]
     },
     "execution_count": 78,
     "metadata": {},
     "output_type": "execute_result"
    },
    {
     "data": {
      "image/png": "[encoded data removed]",
      "text/plain": [
       "<Figure size 700x600 with 2 Axes>"
      ]
     },
     "metadata": {},
     "output_type": "display_data"
    }
   ],
   "source": [
    "labels = [\"Normal Function\", \"Decreased Function\", \"No Function\"]\n",
    "\n",
    "train_labels = star_train_ensemble.get_functions(star_train_y)\n",
    "train_heatmap = build_heatmap(star_train_ensemble.predictions, train_labels, labels)\n",
    "\n",
    "fig = plt.figure()\n",
    "fig.set_size_inches(7, 6)\n",
    "\n",
    "sb.heatmap(train_heatmap, cmap=\"Blues\", annot=train_heatmap, xticklabels=list(reversed(labels)), yticklabels=labels)\n",
    "\n",
    "plt.xlabel(\"True function\")\n",
    "plt.ylabel(\"Predicted function\")\n",
    "plt.title(\"Training set\")"
   ]
  },
  {
   "cell_type": "code",
   "execution_count": null,
   "metadata": {},
   "outputs": [
    {
     "name": "stdout",
     "output_type": "stream",
     "text": [
      "Predicting...\n",
      "2/2 [==============================] - 0s 35ms/step\n",
      "2/2 [==============================] - 0s 28ms/step\n",
      "2/2 [==============================] - 0s 23ms/step\n",
      "2/2 [==============================] - 0s 34ms/step\n",
      "2/2 [==============================] - 0s 29ms/step\n",
      "2/2 [==============================] - 0s 23ms/step\n",
      "2/2 [==============================] - 0s 42ms/step\n",
      "\n",
      "Test Accuracy + suballeles: 0.7719298245614035\n"
     ]
    },
    {
     "data": {
      "image/png": "[encoded data removed]",
      "text/plain": [
       "<Figure size 700x600 with 2 Axes>"
      ]
     },
     "metadata": {},
     "output_type": "display_data"
    }
   ],
   "source": [
    "# All test star alleles + suballeles\n",
    "\n",
    "test_ensemble = Ensemble(test_X)\n",
    "test_labels = test_ensemble.get_functions(test_y)\n",
    "test_heatmap = build_heatmap(test_ensemble.predictions, test_labels, labels)\n",
    "\n",
    "fig = plt.figure()\n",
    "fig.set_size_inches(7, 6)\n",
    "sb.heatmap(test_heatmap, cmap=\"Blues\", annot=test_heatmap, xticklabels=list(reversed(labels)), yticklabels=labels)\n",
    "plt.xlabel(\"True function\")\n",
    "plt.ylabel(\"Predicted function\")\n",
    "plt.title(\"Test set + suballeles\")\n",
    "\n",
    "print(\"\\nTest Accuracy + suballeles:\", test_ensemble.evaluate(test_y))"
   ]
  },
  {
   "cell_type": "code",
   "execution_count": null,
   "metadata": {},
   "outputs": [
    {
     "name": "stdout",
     "output_type": "stream",
     "text": [
      "Predicting...\n",
      "1/1 [==============================] - 0s 185ms/step\n",
      "1/1 [==============================] - 0s 262ms/step\n",
      "1/1 [==============================] - 0s 260ms/step\n",
      "1/1 [==============================] - 0s 259ms/step\n",
      "1/1 [==============================] - 0s 238ms/step\n",
      "1/1 [==============================] - 0s 273ms/step\n",
      "1/1 [==============================] - 0s 207ms/step\n",
      "\n",
      "Test Accuracy: 0.875\n"
     ]
    },
    {
     "data": {
      "image/png": "[encoded data removed]",
      "text/plain": [
       "<Figure size 700x600 with 2 Axes>"
      ]
     },
     "metadata": {},
     "output_type": "display_data"
    }
   ],
   "source": [
    "# All test star alleles\n",
    "\n",
    "test_ensemble = Ensemble(star_test_X)\n",
    "test_labels = test_ensemble.get_functions(star_test_y)\n",
    "test_heatmap = build_heatmap(test_ensemble.predictions, test_labels, labels)\n",
    "\n",
    "fig = plt.figure()\n",
    "fig.set_size_inches(7, 6)\n",
    "sb.heatmap(test_heatmap, cmap=\"Blues\", annot=test_heatmap, xticklabels=list(reversed(labels)), yticklabels=labels)\n",
    "plt.xlabel(\"True function\")\n",
    "plt.ylabel(\"Predicted function\")\n",
    "plt.title(\"Test set + suballeles\")\n",
    "\n",
    "print(\"\\nTest Accuracy:\", test_ensemble.evaluate(star_test_y))"
   ]
  },
  {
   "cell_type": "code",
   "execution_count": null,
   "metadata": {},
   "outputs": [
    {
     "name": "stdout",
     "output_type": "stream",
     "text": [
      "Predicting...\n",
      "3/3 [==============================] - 0s 22ms/step\n",
      "3/3 [==============================] - 0s 24ms/step\n",
      "3/3 [==============================] - 0s 20ms/step\n",
      "3/3 [==============================] - 0s 18ms/step\n",
      "3/3 [==============================] - 0s 18ms/step\n",
      "3/3 [==============================] - 0s 20ms/step\n",
      "3/3 [==============================] - 0s 23ms/step\n"
     ]
    }
   ],
   "source": [
    "predict_ubncertain_labels = Ensemble(uncurated_X)"
   ]
  },
  {
   "cell_type": "code",
   "execution_count": null,
   "metadata": {},
   "outputs": [
    {
     "data": {
      "text/plain": [
       "array(['No Function', 'Normal Function', 'No Function', 'No Function',\n",
       "       'Normal Function', 'Normal Function', 'Normal Function',\n",
       "       'Decreased Function', 'Normal Function', 'No Function',\n",
       "       'Normal Function', 'Decreased Function', 'Normal Function',\n",
       "       'Normal Function', 'Decreased Function', 'Normal Function',\n",
       "       'Normal Function', 'Normal Function', 'Normal Function',\n",
       "       'Normal Function', 'Decreased Function', 'No Function',\n",
       "       'Normal Function', 'Decreased Function', 'Normal Function',\n",
       "       'Normal Function', 'No Function', 'Decreased Function',\n",
       "       'Normal Function', 'Decreased Function', 'Decreased Function',\n",
       "       'Normal Function', 'Normal Function', 'Normal Function',\n",
       "       'Normal Function', 'Decreased Function', 'Decreased Function',\n",
       "       'Normal Function', 'Normal Function', 'Normal Function',\n",
       "       'Normal Function', 'Normal Function', 'Decreased Function',\n",
       "       'Decreased Function', 'Normal Function', 'Decreased Function',\n",
       "       'Decreased Function', 'No Function', 'Normal Function',\n",
       "       'Decreased Function', 'Decreased Function', 'Decreased Function',\n",
       "       'Normal Function', 'Decreased Function', 'Normal Function',\n",
       "       'Normal Function', 'Normal Function', 'Normal Function',\n",
       "       'Normal Function', 'Normal Function', 'Normal Function',\n",
       "       'Normal Function', 'Decreased Function', 'Normal Function',\n",
       "       'Normal Function', 'Normal Function', 'Normal Function',\n",
       "       'No Function', 'Normal Function', 'Normal Function', 'No Function'],\n",
       "      dtype='<U18')"
      ]
     },
     "execution_count": 102,
     "metadata": {},
     "output_type": "execute_result"
    }
   ],
   "source": [
    "predict_ubncertain_labels.predictions"
   ]
  },
  {
   "cell_type": "code",
   "execution_count": null,
   "metadata": {},
   "outputs": [
    {
     "data": {
      "text/plain": [
       "array(['CYP2D6_102_001', 'CYP2D6_103_001', 'CYP2D6_104_001',\n",
       "       'CYP2D6_105_001', 'CYP2D6_106_001', 'CYP2D6_107_001',\n",
       "       'CYP2D6_108_001', 'CYP2D6_109_001', 'CYP2D6_110_001',\n",
       "       'CYP2D6_111_001', 'CYP2D6_112_001', 'CYP2D6_113_001',\n",
       "       'CYP2D6_115_001', 'CYP2D6_116_001', 'CYP2D6_117_001',\n",
       "       'CYP2D6_118_001', 'CYP2D6_119_001', 'CYP2D6_120_001',\n",
       "       'CYP2D6_121_001', 'CYP2D6_122_001', 'CYP2D6_123_001',\n",
       "       'CYP2D6_124_001', 'CYP2D6_125_001', 'CYP2D6_126_001',\n",
       "       'CYP2D6_127_001', 'CYP2D6_128_001', 'CYP2D6_129_001',\n",
       "       'CYP2D6_130_001', 'CYP2D6_131_001', 'CYP2D6_132_001',\n",
       "       'CYP2D6_133_001', 'CYP2D6_134_001', 'CYP2D6_135_001',\n",
       "       'CYP2D6_136_001', 'CYP2D6_137_001', 'CYP2D6_138_001',\n",
       "       'CYP2D6_139_001', 'CYP2D6_22_001', 'CYP2D6_23_001',\n",
       "       'CYP2D6_24_001', 'CYP2D6_25_001', 'CYP2D6_26_001', 'CYP2D6_28_001',\n",
       "       'CYP2D6_30_001', 'CYP2D6_32_001', 'CYP2D6_37_001', 'CYP2D6_43_001',\n",
       "       'CYP2D6_52_001', 'CYP2D6_58_001', 'CYP2D6_64_001', 'CYP2D6_65_001',\n",
       "       'CYP2D6_70_001', 'CYP2D6_71_001', 'CYP2D6_73_001', 'CYP2D6_74_001',\n",
       "       'CYP2D6_75_001', 'CYP2D6_81_001', 'CYP2D6_82_001', 'CYP2D6_83_001',\n",
       "       'CYP2D6_85_001', 'CYP2D6_86_001', 'CYP2D6_87_001', 'CYP2D6_88_001',\n",
       "       'CYP2D6_89_001', 'CYP2D6_90_001', 'CYP2D6_91_001', 'CYP2D6_93_001',\n",
       "       'CYP2D6_94_001', 'CYP2D6_95_001', 'CYP2D6_97_001', 'CYP2D6_98_001'],\n",
       "      dtype='<U14')"
      ]
     },
     "execution_count": 103,
     "metadata": {},
     "output_type": "execute_result"
    }
   ],
   "source": [
    "uncurated_samples"
   ]
  },
  {
   "cell_type": "code",
   "execution_count": null,
   "metadata": {},
   "outputs": [
    {
     "data": {
      "text/plain": [
       "array(['*102', '*103', '*104', '*105', '*106', '*107', '*108', '*109',\n",
       "       '*110', '*111', '*112', '*113', '*115', '*116', '*117', '*118',\n",
       "       '*119', '*120', '*121', '*122', '*123', '*124', '*125', '*126',\n",
       "       '*127', '*128', '*129', '*130', '*131', '*132', '*133', '*134',\n",
       "       '*135', '*136', '*137', '*138', '*139', '*22', '*23', '*24', '*25',\n",
       "       '*26', '*28', '*30', '*32', '*37', '*43', '*52', '*58', '*64',\n",
       "       '*65', '*70', '*71', '*73', '*74', '*75', '*81', '*82', '*83',\n",
       "       '*85', '*86', '*87', '*88', '*89', '*90', '*91', '*93', '*94',\n",
       "       '*95', '*97', '*98'], dtype='<U4')"
      ]
     },
     "execution_count": 104,
     "metadata": {},
     "output_type": "execute_result"
    }
   ],
   "source": [
    "np.array([f\"*{uncurated.split('_')[1]}\" for uncurated in uncurated_samples])"
   ]
  },
  {
   "cell_type": "code",
   "execution_count": null,
   "metadata": {},
   "outputs": [],
   "source": [
    "data_frame = pd.DataFrame({'Uncertain': np.array([f\"*{uncurated.split('_')[1]}\" for uncurated in uncurated_samples]), 'Predict': predict_ubncertain_labels.predictions})"
   ]
  },
  {
   "cell_type": "code",
   "execution_count": null,
   "metadata": {},
   "outputs": [
    {
     "data": {
      "text/html": [
       "<div>\n",
       "<style scoped>\n",
       "    .dataframe tbody tr th:only-of-type {\n",
       "        vertical-align: middle;\n",
       "    }\n",
       "\n",
       "    .dataframe tbody tr th {\n",
       "        vertical-align: top;\n",
       "    }\n",
       "\n",
       "    .dataframe thead th {\n",
       "        text-align: right;\n",
       "    }\n",
       "</style>\n",
       "<table border=\"1\" class=\"dataframe\">\n",
       "  <thead>\n",
       "    <tr style=\"text-align: right;\">\n",
       "      <th></th>\n",
       "      <th>Uncertain</th>\n",
       "      <th>Predict</th>\n",
       "    </tr>\n",
       "  </thead>\n",
       "  <tbody>\n",
       "    <tr>\n",
       "      <th>0</th>\n",
       "      <td>*102</td>\n",
       "      <td>No Function</td>\n",
       "    </tr>\n",
       "    <tr>\n",
       "      <th>1</th>\n",
       "      <td>*103</td>\n",
       "      <td>Normal Function</td>\n",
       "    </tr>\n",
       "    <tr>\n",
       "      <th>2</th>\n",
       "      <td>*104</td>\n",
       "      <td>No Function</td>\n",
       "    </tr>\n",
       "    <tr>\n",
       "      <th>3</th>\n",
       "      <td>*105</td>\n",
       "      <td>No Function</td>\n",
       "    </tr>\n",
       "    <tr>\n",
       "      <th>4</th>\n",
       "      <td>*106</td>\n",
       "      <td>Normal Function</td>\n",
       "    </tr>\n",
       "    <tr>\n",
       "      <th>...</th>\n",
       "      <td>...</td>\n",
       "      <td>...</td>\n",
       "    </tr>\n",
       "    <tr>\n",
       "      <th>66</th>\n",
       "      <td>*93</td>\n",
       "      <td>Normal Function</td>\n",
       "    </tr>\n",
       "    <tr>\n",
       "      <th>67</th>\n",
       "      <td>*94</td>\n",
       "      <td>No Function</td>\n",
       "    </tr>\n",
       "    <tr>\n",
       "      <th>68</th>\n",
       "      <td>*95</td>\n",
       "      <td>Normal Function</td>\n",
       "    </tr>\n",
       "    <tr>\n",
       "      <th>69</th>\n",
       "      <td>*97</td>\n",
       "      <td>Normal Function</td>\n",
       "    </tr>\n",
       "    <tr>\n",
       "      <th>70</th>\n",
       "      <td>*98</td>\n",
       "      <td>No Function</td>\n",
       "    </tr>\n",
       "  </tbody>\n",
       "</table>\n",
       "<p>71 rows × 2 columns</p>\n",
       "</div>"
      ],
      "text/plain": [
       "   Uncertain          Predict\n",
       "0       *102      No Function\n",
       "1       *103  Normal Function\n",
       "2       *104      No Function\n",
       "3       *105      No Function\n",
       "4       *106  Normal Function\n",
       "..       ...              ...\n",
       "66       *93  Normal Function\n",
       "67       *94      No Function\n",
       "68       *95  Normal Function\n",
       "69       *97  Normal Function\n",
       "70       *98      No Function\n",
       "\n",
       "[71 rows x 2 columns]"
      ]
     },
     "execution_count": 106,
     "metadata": {},
     "output_type": "execute_result"
    }
   ],
   "source": [
    "data_frame"
   ]
  },
  {
   "cell_type": "code",
   "execution_count": null,
   "metadata": {},
   "outputs": [],
   "source": [
    "data_frame.to_csv('../data/final_model/uncurated/predict.csv', index=False)"
   ]
  },
  {
   "cell_type": "code",
   "execution_count": null,
   "metadata": {},
   "outputs": [],
   "source": [
    "star_alleles_predict = pd.read_csv('../data/final_model/uncurated/predict.csv')"
   ]
  },
  {
   "cell_type": "code",
   "execution_count": null,
   "metadata": {},
   "outputs": [],
   "source": [
    "uncurated_predict = star_alleles_predict.copy()\n",
    "alleles_function_predicted = alleles_function.copy()"
   ]
  },
  {
   "cell_type": "code",
   "execution_count": null,
   "metadata": {},
   "outputs": [],
   "source": [
    "for index, row in uncurated_predict.iterrows():\n",
    "    condition = alleles_function_predicted['CYP2D6 Star Allele'] == row['Uncertain']\n",
    "    alleles_function_predicted.loc[condition, 'Curated Function'] = row['Predict']\n"
   ]
  },
  {
   "cell_type": "code",
   "execution_count": null,
   "metadata": {},
   "outputs": [
    {
     "data": {
      "text/html": [
       "<div>\n",
       "<style scoped>\n",
       "    .dataframe tbody tr th:only-of-type {\n",
       "        vertical-align: middle;\n",
       "    }\n",
       "\n",
       "    .dataframe tbody tr th {\n",
       "        vertical-align: top;\n",
       "    }\n",
       "\n",
       "    .dataframe thead th {\n",
       "        text-align: right;\n",
       "    }\n",
       "</style>\n",
       "<table border=\"1\" class=\"dataframe\">\n",
       "  <thead>\n",
       "    <tr style=\"text-align: right;\">\n",
       "      <th></th>\n",
       "      <th>CYP2D6 Star Allele</th>\n",
       "      <th>Curated Function</th>\n",
       "    </tr>\n",
       "  </thead>\n",
       "  <tbody>\n",
       "    <tr>\n",
       "      <th>0</th>\n",
       "      <td>*1</td>\n",
       "      <td>Normal</td>\n",
       "    </tr>\n",
       "    <tr>\n",
       "      <th>1</th>\n",
       "      <td>*2</td>\n",
       "      <td>Normal</td>\n",
       "    </tr>\n",
       "    <tr>\n",
       "      <th>2</th>\n",
       "      <td>*3</td>\n",
       "      <td>No function</td>\n",
       "    </tr>\n",
       "    <tr>\n",
       "      <th>3</th>\n",
       "      <td>*4</td>\n",
       "      <td>No function</td>\n",
       "    </tr>\n",
       "    <tr>\n",
       "      <th>4</th>\n",
       "      <td>*6</td>\n",
       "      <td>No function</td>\n",
       "    </tr>\n",
       "    <tr>\n",
       "      <th>...</th>\n",
       "      <td>...</td>\n",
       "      <td>...</td>\n",
       "    </tr>\n",
       "    <tr>\n",
       "      <th>122</th>\n",
       "      <td>*135</td>\n",
       "      <td>Normal Function</td>\n",
       "    </tr>\n",
       "    <tr>\n",
       "      <th>123</th>\n",
       "      <td>*136</td>\n",
       "      <td>Normal Function</td>\n",
       "    </tr>\n",
       "    <tr>\n",
       "      <th>124</th>\n",
       "      <td>*137</td>\n",
       "      <td>Normal Function</td>\n",
       "    </tr>\n",
       "    <tr>\n",
       "      <th>125</th>\n",
       "      <td>*138</td>\n",
       "      <td>Decreased Function</td>\n",
       "    </tr>\n",
       "    <tr>\n",
       "      <th>126</th>\n",
       "      <td>*139</td>\n",
       "      <td>Decreased Function</td>\n",
       "    </tr>\n",
       "  </tbody>\n",
       "</table>\n",
       "<p>127 rows × 2 columns</p>\n",
       "</div>"
      ],
      "text/plain": [
       "    CYP2D6 Star Allele    Curated Function\n",
       "0                   *1              Normal\n",
       "1                   *2              Normal\n",
       "2                   *3         No function\n",
       "3                   *4         No function\n",
       "4                   *6         No function\n",
       "..                 ...                 ...\n",
       "122               *135     Normal Function\n",
       "123               *136     Normal Function\n",
       "124               *137     Normal Function\n",
       "125               *138  Decreased Function\n",
       "126               *139  Decreased Function\n",
       "\n",
       "[127 rows x 2 columns]"
      ]
     },
     "execution_count": 111,
     "metadata": {},
     "output_type": "execute_result"
    }
   ],
   "source": [
    "alleles_function_predicted"
   ]
  },
  {
   "cell_type": "code",
   "execution_count": null,
   "metadata": {},
   "outputs": [],
   "source": [
    "function_to_score = alleles_function_predicted.copy()\n",
    "for index, row in function_to_score.iterrows():\n",
    "    if row['Curated Function'] == 'Normal':\n",
    "        function_to_score.iloc[index, 1] = 1\n",
    "    elif row['Curated Function'] == 'Decreased Function':\n",
    "        function_to_score.iloc[index, 1] = 0.5\n",
    "    else:\n",
    "        function_to_score.iloc[index, 1] = 0\n",
    "    \n"
   ]
  },
  {
   "cell_type": "code",
   "execution_count": null,
   "metadata": {},
   "outputs": [
    {
     "data": {
      "text/html": [
       "<div>\n",
       "<style scoped>\n",
       "    .dataframe tbody tr th:only-of-type {\n",
       "        vertical-align: middle;\n",
       "    }\n",
       "\n",
       "    .dataframe tbody tr th {\n",
       "        vertical-align: top;\n",
       "    }\n",
       "\n",
       "    .dataframe thead th {\n",
       "        text-align: right;\n",
       "    }\n",
       "</style>\n",
       "<table border=\"1\" class=\"dataframe\">\n",
       "  <thead>\n",
       "    <tr style=\"text-align: right;\">\n",
       "      <th></th>\n",
       "      <th>CYP2D6 Star Allele</th>\n",
       "      <th>Score</th>\n",
       "    </tr>\n",
       "  </thead>\n",
       "  <tbody>\n",
       "    <tr>\n",
       "      <th>0</th>\n",
       "      <td>*1</td>\n",
       "      <td>1</td>\n",
       "    </tr>\n",
       "    <tr>\n",
       "      <th>1</th>\n",
       "      <td>*2</td>\n",
       "      <td>1</td>\n",
       "    </tr>\n",
       "    <tr>\n",
       "      <th>2</th>\n",
       "      <td>*3</td>\n",
       "      <td>0</td>\n",
       "    </tr>\n",
       "    <tr>\n",
       "      <th>3</th>\n",
       "      <td>*4</td>\n",
       "      <td>0</td>\n",
       "    </tr>\n",
       "    <tr>\n",
       "      <th>4</th>\n",
       "      <td>*6</td>\n",
       "      <td>0</td>\n",
       "    </tr>\n",
       "    <tr>\n",
       "      <th>...</th>\n",
       "      <td>...</td>\n",
       "      <td>...</td>\n",
       "    </tr>\n",
       "    <tr>\n",
       "      <th>122</th>\n",
       "      <td>*135</td>\n",
       "      <td>0</td>\n",
       "    </tr>\n",
       "    <tr>\n",
       "      <th>123</th>\n",
       "      <td>*136</td>\n",
       "      <td>0</td>\n",
       "    </tr>\n",
       "    <tr>\n",
       "      <th>124</th>\n",
       "      <td>*137</td>\n",
       "      <td>0</td>\n",
       "    </tr>\n",
       "    <tr>\n",
       "      <th>125</th>\n",
       "      <td>*138</td>\n",
       "      <td>0.5</td>\n",
       "    </tr>\n",
       "    <tr>\n",
       "      <th>126</th>\n",
       "      <td>*139</td>\n",
       "      <td>0.5</td>\n",
       "    </tr>\n",
       "  </tbody>\n",
       "</table>\n",
       "<p>127 rows × 2 columns</p>\n",
       "</div>"
      ],
      "text/plain": [
       "    CYP2D6 Star Allele Score\n",
       "0                   *1     1\n",
       "1                   *2     1\n",
       "2                   *3     0\n",
       "3                   *4     0\n",
       "4                   *6     0\n",
       "..                 ...   ...\n",
       "122               *135     0\n",
       "123               *136     0\n",
       "124               *137     0\n",
       "125               *138   0.5\n",
       "126               *139   0.5\n",
       "\n",
       "[127 rows x 2 columns]"
      ]
     },
     "execution_count": 113,
     "metadata": {},
     "output_type": "execute_result"
    }
   ],
   "source": [
    "function_to_score = function_to_score.rename(columns={'Curated Function': 'Score'})\n",
    "function_to_score"
   ]
  },
  {
   "cell_type": "code",
   "execution_count": null,
   "metadata": {},
   "outputs": [],
   "source": [
    "gt_to_score = pd.read_csv('../data/final_model/CYP2D6_gt_to_score.txt', sep='\\t')"
   ]
  },
  {
   "cell_type": "code",
   "execution_count": null,
   "metadata": {},
   "outputs": [
    {
     "data": {
      "text/html": [
       "<div>\n",
       "<style scoped>\n",
       "    .dataframe tbody tr th:only-of-type {\n",
       "        vertical-align: middle;\n",
       "    }\n",
       "\n",
       "    .dataframe tbody tr th {\n",
       "        vertical-align: top;\n",
       "    }\n",
       "\n",
       "    .dataframe thead th {\n",
       "        text-align: right;\n",
       "    }\n",
       "</style>\n",
       "<table border=\"1\" class=\"dataframe\">\n",
       "  <thead>\n",
       "    <tr style=\"text-align: right;\">\n",
       "      <th></th>\n",
       "      <th>Allele</th>\n",
       "      <th>Activity Value</th>\n",
       "      <th>Source</th>\n",
       "    </tr>\n",
       "  </thead>\n",
       "  <tbody>\n",
       "    <tr>\n",
       "      <th>0</th>\n",
       "      <td>*1</td>\n",
       "      <td>1.0</td>\n",
       "      <td>CPIC/PGKB allele table 8/23/21</td>\n",
       "    </tr>\n",
       "    <tr>\n",
       "      <th>1</th>\n",
       "      <td>*2</td>\n",
       "      <td>1.0</td>\n",
       "      <td>CPIC/PGKB allele table 8/23/21</td>\n",
       "    </tr>\n",
       "    <tr>\n",
       "      <th>2</th>\n",
       "      <td>*3</td>\n",
       "      <td>0.0</td>\n",
       "      <td>CPIC/PGKB allele table 8/23/21</td>\n",
       "    </tr>\n",
       "    <tr>\n",
       "      <th>3</th>\n",
       "      <td>*4</td>\n",
       "      <td>0.0</td>\n",
       "      <td>CPIC/PGKB allele table 8/23/21</td>\n",
       "    </tr>\n",
       "    <tr>\n",
       "      <th>4</th>\n",
       "      <td>*5</td>\n",
       "      <td>0.0</td>\n",
       "      <td>CPIC/PGKB allele table 8/23/21</td>\n",
       "    </tr>\n",
       "    <tr>\n",
       "      <th>...</th>\n",
       "      <td>...</td>\n",
       "      <td>...</td>\n",
       "      <td>...</td>\n",
       "    </tr>\n",
       "    <tr>\n",
       "      <th>132</th>\n",
       "      <td>*141</td>\n",
       "      <td>NaN</td>\n",
       "      <td>PharmVar 2.8</td>\n",
       "    </tr>\n",
       "    <tr>\n",
       "      <th>133</th>\n",
       "      <td>*142</td>\n",
       "      <td>NaN</td>\n",
       "      <td>PharmVar 2.8</td>\n",
       "    </tr>\n",
       "    <tr>\n",
       "      <th>134</th>\n",
       "      <td>*143</td>\n",
       "      <td>0.0</td>\n",
       "      <td>PharmVar 2.8</td>\n",
       "    </tr>\n",
       "    <tr>\n",
       "      <th>135</th>\n",
       "      <td>*144</td>\n",
       "      <td>NaN</td>\n",
       "      <td>PharmVar 2.8</td>\n",
       "    </tr>\n",
       "    <tr>\n",
       "      <th>136</th>\n",
       "      <td>*145</td>\n",
       "      <td>NaN</td>\n",
       "      <td>PharmVar 2.8</td>\n",
       "    </tr>\n",
       "  </tbody>\n",
       "</table>\n",
       "<p>137 rows × 3 columns</p>\n",
       "</div>"
      ],
      "text/plain": [
       "    Allele  Activity Value                          Source\n",
       "0       *1             1.0  CPIC/PGKB allele table 8/23/21\n",
       "1       *2             1.0  CPIC/PGKB allele table 8/23/21\n",
       "2       *3             0.0  CPIC/PGKB allele table 8/23/21\n",
       "3       *4             0.0  CPIC/PGKB allele table 8/23/21\n",
       "4       *5             0.0  CPIC/PGKB allele table 8/23/21\n",
       "..     ...             ...                             ...\n",
       "132   *141             NaN                    PharmVar 2.8\n",
       "133   *142             NaN                    PharmVar 2.8\n",
       "134   *143             0.0                    PharmVar 2.8\n",
       "135   *144             NaN                    PharmVar 2.8\n",
       "136   *145             NaN                    PharmVar 2.8\n",
       "\n",
       "[137 rows x 3 columns]"
      ]
     },
     "execution_count": 115,
     "metadata": {},
     "output_type": "execute_result"
    }
   ],
   "source": [
    "gt_to_score"
   ]
  },
  {
   "cell_type": "code",
   "execution_count": null,
   "metadata": {},
   "outputs": [],
   "source": [
    "gt_to_score['reliability'] = '.'\n",
    "\n",
    "for index, row in gt_to_score.iterrows():\n",
    "    if pd.isna(row['Activity Value']):\n",
    "        condition = function_to_score['CYP2D6 Star Allele'] == row['Allele']\n",
    "        score = function_to_score.loc[condition, 'Score'].values\n",
    "        if len(score) > 0:\n",
    "            gt_to_score.iloc[index, 1] = score\n",
    "            gt_to_score.iloc[index, 3] = 'Predict by model'\n",
    "\n"
   ]
  },
  {
   "cell_type": "code",
   "execution_count": null,
   "metadata": {},
   "outputs": [
    {
     "data": {
      "text/html": [
       "<div>\n",
       "<style scoped>\n",
       "    .dataframe tbody tr th:only-of-type {\n",
       "        vertical-align: middle;\n",
       "    }\n",
       "\n",
       "    .dataframe tbody tr th {\n",
       "        vertical-align: top;\n",
       "    }\n",
       "\n",
       "    .dataframe thead th {\n",
       "        text-align: right;\n",
       "    }\n",
       "</style>\n",
       "<table border=\"1\" class=\"dataframe\">\n",
       "  <thead>\n",
       "    <tr style=\"text-align: right;\">\n",
       "      <th></th>\n",
       "      <th>Allele</th>\n",
       "      <th>Activity Value</th>\n",
       "      <th>Source</th>\n",
       "      <th>reliability</th>\n",
       "    </tr>\n",
       "  </thead>\n",
       "  <tbody>\n",
       "    <tr>\n",
       "      <th>0</th>\n",
       "      <td>*1</td>\n",
       "      <td>1.0</td>\n",
       "      <td>CPIC/PGKB allele table 8/23/21</td>\n",
       "      <td>.</td>\n",
       "    </tr>\n",
       "    <tr>\n",
       "      <th>1</th>\n",
       "      <td>*2</td>\n",
       "      <td>1.0</td>\n",
       "      <td>CPIC/PGKB allele table 8/23/21</td>\n",
       "      <td>.</td>\n",
       "    </tr>\n",
       "    <tr>\n",
       "      <th>2</th>\n",
       "      <td>*3</td>\n",
       "      <td>0.0</td>\n",
       "      <td>CPIC/PGKB allele table 8/23/21</td>\n",
       "      <td>.</td>\n",
       "    </tr>\n",
       "    <tr>\n",
       "      <th>3</th>\n",
       "      <td>*4</td>\n",
       "      <td>0.0</td>\n",
       "      <td>CPIC/PGKB allele table 8/23/21</td>\n",
       "      <td>.</td>\n",
       "    </tr>\n",
       "    <tr>\n",
       "      <th>4</th>\n",
       "      <td>*5</td>\n",
       "      <td>0.0</td>\n",
       "      <td>CPIC/PGKB allele table 8/23/21</td>\n",
       "      <td>.</td>\n",
       "    </tr>\n",
       "    <tr>\n",
       "      <th>...</th>\n",
       "      <td>...</td>\n",
       "      <td>...</td>\n",
       "      <td>...</td>\n",
       "      <td>...</td>\n",
       "    </tr>\n",
       "    <tr>\n",
       "      <th>132</th>\n",
       "      <td>*141</td>\n",
       "      <td>NaN</td>\n",
       "      <td>PharmVar 2.8</td>\n",
       "      <td>.</td>\n",
       "    </tr>\n",
       "    <tr>\n",
       "      <th>133</th>\n",
       "      <td>*142</td>\n",
       "      <td>NaN</td>\n",
       "      <td>PharmVar 2.8</td>\n",
       "      <td>.</td>\n",
       "    </tr>\n",
       "    <tr>\n",
       "      <th>134</th>\n",
       "      <td>*143</td>\n",
       "      <td>0.0</td>\n",
       "      <td>PharmVar 2.8</td>\n",
       "      <td>.</td>\n",
       "    </tr>\n",
       "    <tr>\n",
       "      <th>135</th>\n",
       "      <td>*144</td>\n",
       "      <td>NaN</td>\n",
       "      <td>PharmVar 2.8</td>\n",
       "      <td>.</td>\n",
       "    </tr>\n",
       "    <tr>\n",
       "      <th>136</th>\n",
       "      <td>*145</td>\n",
       "      <td>NaN</td>\n",
       "      <td>PharmVar 2.8</td>\n",
       "      <td>.</td>\n",
       "    </tr>\n",
       "  </tbody>\n",
       "</table>\n",
       "<p>137 rows × 4 columns</p>\n",
       "</div>"
      ],
      "text/plain": [
       "    Allele  Activity Value                          Source reliability\n",
       "0       *1             1.0  CPIC/PGKB allele table 8/23/21           .\n",
       "1       *2             1.0  CPIC/PGKB allele table 8/23/21           .\n",
       "2       *3             0.0  CPIC/PGKB allele table 8/23/21           .\n",
       "3       *4             0.0  CPIC/PGKB allele table 8/23/21           .\n",
       "4       *5             0.0  CPIC/PGKB allele table 8/23/21           .\n",
       "..     ...             ...                             ...         ...\n",
       "132   *141             NaN                    PharmVar 2.8           .\n",
       "133   *142             NaN                    PharmVar 2.8           .\n",
       "134   *143             0.0                    PharmVar 2.8           .\n",
       "135   *144             NaN                    PharmVar 2.8           .\n",
       "136   *145             NaN                    PharmVar 2.8           .\n",
       "\n",
       "[137 rows x 4 columns]"
      ]
     },
     "execution_count": 117,
     "metadata": {},
     "output_type": "execute_result"
    }
   ],
   "source": [
    "gt_to_score"
   ]
  },
  {
   "cell_type": "code",
   "execution_count": null,
   "metadata": {},
   "outputs": [],
   "source": [
    "gt_to_score.to_csv('../data/final_model/gt_to_score.txt', sep='\\t', index=False, na_rep='N/A')"
   ]
  },
  {
   "cell_type": "code",
   "execution_count": null,
   "metadata": {},
   "outputs": [],
   "source": []
  },
  {
   "cell_type": "code",
   "execution_count": null,
   "metadata": {},
   "outputs": [],
   "source": []
  },
  {
   "cell_type": "code",
   "execution_count": null,
   "metadata": {},
   "outputs": [],
   "source": []
  }
 ],
 "metadata": {
  "kernelspec": {
   "display_name": "ml-hus",
   "language": "python",
   "name": "python3"
  },
  "language_info": {
   "codemirror_mode": {
    "name": "ipython",
    "version": 3
   },
   "file_extension": ".py",
   "mimetype": "text/x-python",
   "name": "python",
   "nbconvert_exporter": "python",
   "pygments_lexer": "ipython3",
   "version": "3.9.16"
  }
 },
 "nbformat": 4,
 "nbformat_minor": 2
}
