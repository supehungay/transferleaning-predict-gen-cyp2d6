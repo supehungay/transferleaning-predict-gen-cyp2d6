{
 "cells": [
  {
   "cell_type": "code",
   "execution_count": 2,
   "metadata": {},
   "outputs": [],
   "source": [
    "import numpy as np\n",
    "import pandas as pd\n",
    "import tensorflow as tf\n",
    "from keras.models import Model\n",
    "from keras.layers import Input, Dense, Flatten, Conv1D, MaxPooling1D, BatchNormalization, Activation, Dropout, LSTM\n",
    "\n",
    "from keras.utils import to_categorical\n",
    "from keras.optimizers import Adam\n",
    "from keras.callbacks import ModelCheckpoint, TensorBoard, CSVLogger\n",
    "\n",
    "from sklearn.metrics import mean_absolute_error\n",
    "from sklearn.model_selection import train_test_split\n",
    "\n",
    "import joblib\n",
    "import glob\n",
    "import matplotlib.pyplot as plt\n",
    "from datetime import datetime\n",
    "import os"
   ]
  },
  {
   "cell_type": "code",
   "execution_count": 3,
   "metadata": {},
   "outputs": [],
   "source": [
    "def label2onehot(label: np.array) -> np.array:\n",
    "    thresholds = [0.25, 0.75, 1.25, 1.75]\n",
    "\n",
    "    categorical_labels = np.digitize(label, thresholds)\n",
    "\n",
    "    one_hot_encoder = to_categorical(categorical_labels)\n",
    "    \n",
    "    return one_hot_encoder"
   ]
  },
  {
   "cell_type": "code",
   "execution_count": 4,
   "metadata": {},
   "outputs": [],
   "source": [
    "def load_data() -> tuple:\n",
    "    X = None\n",
    "    y = None\n",
    "    all_path = sorted(glob.glob('../data/input_data/*'))\n",
    "    # count = 1\n",
    "    for count, path in enumerate(all_path):\n",
    "        print(f\"{count}. {path.split('/')[-1].split('.')[0]}\")\n",
    "        data_loaded = joblib.load(path)\n",
    "        if X is None:\n",
    "            X = data_loaded['X']\n",
    "            y = data_loaded['activate_score']\n",
    "        else:\n",
    "            X = np.concatenate((X, data_loaded['X']), axis=0)\n",
    "            y = np.concatenate((y, data_loaded['activate_score']), axis=0)\n",
    "\n",
    "        # if count == 0:\n",
    "        #     break\n",
    "        # count += 1\n",
    "    \n",
    "    y = y.reshape(-1, 1)\n",
    "    y = label2onehot(y)\n",
    "     \n",
    "    # X_train, X_test, y_train, y_test = train_test_split(X, y, test_size=1)        \n",
    "    \n",
    "    # y_train = y_train.reshape(-1, 1)\n",
    "    # y_test = y_test.reshape(-1, 1)\n",
    "    \n",
    "    # y_train = label2onehot(y_train)\n",
    "    # y_test = label2onehot(y_test)\n",
    "    \n",
    "    # return X_train, X_test, y_train, y_test\n",
    "    return X, y"
   ]
  },
  {
   "cell_type": "code",
   "execution_count": 5,
   "metadata": {},
   "outputs": [
    {
     "name": "stdout",
     "output_type": "stream",
     "text": [
      "0. input_data\\batch_0\n",
      "1. input_data\\batch_1\n",
      "2. input_data\\batch_2\n",
      "3. input_data\\batch_3\n",
      "4. input_data\\batch_4\n",
      "5. input_data\\batch_5\n",
      "6. input_data\\batch_6\n",
      "7. input_data\\batch_7\n",
      "8. input_data\\batch_8\n",
      "9. input_data\\batch_9\n"
     ]
    }
   ],
   "source": [
    "# X_train, X_test, y_train, y_test = load_data()\n",
    "X_train, y_train = load_data()\n",
    "\n",
    "    \n",
    "input_shape = X_train.shape[1:]"
   ]
  },
  {
   "cell_type": "code",
   "execution_count": 6,
   "metadata": {},
   "outputs": [
    {
     "data": {
      "text/plain": [
       "array([[0., 1., 0., ..., 0., 1., 0.],\n",
       "       [0., 0., 1., ..., 1., 0., 0.],\n",
       "       [0., 0., 0., ..., 0., 0., 0.],\n",
       "       ...,\n",
       "       [0., 0., 0., ..., 0., 0., 0.],\n",
       "       [0., 0., 0., ..., 1., 1., 1.],\n",
       "       [0., 0., 0., ..., 0., 0., 0.]])"
      ]
     },
     "execution_count": 6,
     "metadata": {},
     "output_type": "execute_result"
    }
   ],
   "source": [
    "X_train[0].T"
   ]
  },
  {
   "cell_type": "code",
   "execution_count": 7,
   "metadata": {},
   "outputs": [
    {
     "name": "stdout",
     "output_type": "stream",
     "text": [
      "X_train: (5000, 14868, 13); y_train: (5000, 5); input_shape(14868, 13)\n"
     ]
    }
   ],
   "source": [
    "# print(f'X_train: {X_train.shape}; X_test: {X_test.shape}; y_train: {y_train.shape}; y_test: {y_test.shape}, input_shape{input_shape}')\n",
    "print(f'X_train: {X_train.shape}; y_train: {y_train.shape}; input_shape{input_shape}')"
   ]
  },
  {
   "cell_type": "code",
   "execution_count": 8,
   "metadata": {},
   "outputs": [
    {
     "data": {
      "text/plain": [
       "array([[1., 0., 0., 0., 0.],\n",
       "       [1., 0., 0., 0., 0.],\n",
       "       [1., 0., 0., 0., 0.],\n",
       "       ...,\n",
       "       [0., 0., 0., 0., 1.],\n",
       "       [0., 0., 0., 0., 1.],\n",
       "       [0., 0., 0., 0., 1.]], dtype=float32)"
      ]
     },
     "execution_count": 8,
     "metadata": {},
     "output_type": "execute_result"
    }
   ],
   "source": [
    "y_train"
   ]
  },
  {
   "cell_type": "code",
   "execution_count": 9,
   "metadata": {},
   "outputs": [
    {
     "data": {
      "text/plain": [
       "<matplotlib.image.AxesImage at 0x293c65046a0>"
      ]
     },
     "execution_count": 9,
     "metadata": {},
     "output_type": "execute_result"
    },
    {
     "data": {
      "image/png": "[encoded data removed]",
      "text/plain": [
       "<Figure size 1500x800 with 2 Axes>"
      ]
     },
     "metadata": {},
     "output_type": "display_data"
    }
   ],
   "source": [
    "plt.figure(figsize=(15, 8))\n",
    "plt.subplot(2, 1, 1)\n",
    "plt.imshow(X_train[0][7318:7418].T)\n",
    "plt.subplot(2, 1, 2)\n",
    "plt.imshow(X_train[0][:100].T)"
   ]
  },
  {
   "cell_type": "code",
   "execution_count": 10,
   "metadata": {},
   "outputs": [
    {
     "data": {
      "text/plain": [
       "(14868, 13)"
      ]
     },
     "execution_count": 10,
     "metadata": {},
     "output_type": "execute_result"
    }
   ],
   "source": [
    "X_train[0].shape"
   ]
  },
  {
   "cell_type": "code",
   "execution_count": 11,
   "metadata": {},
   "outputs": [],
   "source": [
    "def cnn_block(layer, filters_num: int, kernel_size: int, strides: int, padding: int, dropout_rate: float, name_index: int, pool_size: int, pool_strides: int, pool_padding: int):\n",
    "    layer = Conv1D(\n",
    "        filters=filters_num,\n",
    "        kernel_size=kernel_size,\n",
    "        strides=strides,\n",
    "        padding=padding,\n",
    "        activation='linear',\n",
    "        kernel_initializer='VarianceScaling',\n",
    "        bias_initializer='Zeros',\n",
    "        name=f'conv_{name_index}'\n",
    "    )(layer)\n",
    "    \n",
    "    layer = BatchNormalization(name=f'batch_{name_index}')(layer)\n",
    "    layer = Activation(activation='relu', name=f'activation_{name_index}')(layer)\n",
    "    layer = Dropout(rate=dropout_rate, name=f'dropout_{name_index}')(layer)\n",
    "    layer = MaxPooling1D(pool_size=pool_size, strides=pool_strides, padding=pool_padding, name=f'max_pooling_{name_index}')(layer)\n",
    "    \n",
    "    return layer"
   ]
  },
  {
   "cell_type": "code",
   "execution_count": 14,
   "metadata": {},
   "outputs": [],
   "source": [
    "def build_model(input_shape):\n",
    "    inputs = Input(shape=input_shape, dtype=float, name=\"data\")\n",
    "    # labels = tf.keras.layers.Input(name=\"label\", shape=(None,))\n",
    "    \n",
    "    # layer = cnn_block(layer=inputs, filters_num=70, kernel_size=19, strides=5, padding='valid', dropout_rate=0, name_index=1, pool_size=3, pool_strides=3, pool_padding='valid')\n",
    "    # layer = cnn_block(layer=layer, filters_num=46, kernel_size=11, strides=5, padding='valid', dropout_rate=0, name_index=2, pool_size=4, pool_strides=4, pool_padding='valid')\n",
    "    # layer = cnn_block(layer=layer, filters_num=46, kernel_size=7, strides=5, padding='valid', dropout_rate=0, name_index=3, pool_size=4, pool_strides=4, pool_padding='valid')\n",
    "    \n",
    "    # layer = Flatten(name='flatten')(layer)\n",
    "  \n",
    "    layer = LSTM(128, return_sequences=True)(inputs)\n",
    "    layer = LSTM(128)(layer)\n",
    "    \n",
    "    layer = Dense(units=32, activation='linear', kernel_initializer='VarianceScaling', bias_initializer='Zeros', name='dense1')(layer)\n",
    "    layer = Activation(activation='relu', name=f'activation_{4}')(layer)\n",
    "    layer = Dropout(0.3, name='dropout_4')(layer)\n",
    "    layer = Dense(units=32, activation='linear', kernel_initializer='VarianceScaling', bias_initializer='Zeros', name='dense2')(layer)\n",
    "    \n",
    "    outputs = Dense(units=5, activation='softmax', kernel_initializer='VarianceScaling', bias_initializer='Zeros')(layer)\n",
    "    \n",
    "    model = Model(inputs=inputs, outputs=outputs, name='cnn_model')\n",
    "    \n",
    "    return model"
   ]
  },
  {
   "cell_type": "code",
   "execution_count": 15,
   "metadata": {},
   "outputs": [
    {
     "name": "stdout",
     "output_type": "stream",
     "text": [
      "Model: \"cnn_model\"\n",
      "_________________________________________________________________\n",
      " Layer (type)                Output Shape              Param #   \n",
      "=================================================================\n",
      " data (InputLayer)           [(None, 14868, 13)]       0         \n",
      "                                                                 \n",
      " lstm_2 (LSTM)               (None, 14868, 128)        72704     \n",
      "                                                                 \n",
      " lstm_3 (LSTM)               (None, 128)               131584    \n",
      "                                                                 \n",
      " dense1 (Dense)              (None, 32)                4128      \n",
      "                                                                 \n",
      " activation_4 (Activation)   (None, 32)                0         \n",
      "                                                                 \n",
      " dropout_4 (Dropout)         (None, 32)                0         \n",
      "                                                                 \n",
      " dense2 (Dense)              (None, 32)                1056      \n",
      "                                                                 \n",
      " dense_1 (Dense)             (None, 5)                 165       \n",
      "                                                                 \n",
      "=================================================================\n",
      "Total params: 209637 (818.89 KB)\n",
      "Trainable params: 209637 (818.89 KB)\n",
      "Non-trainable params: 0 (0.00 Byte)\n",
      "_________________________________________________________________\n"
     ]
    }
   ],
   "source": [
    "model = build_model(input_shape=input_shape)\n",
    "model.summary()"
   ]
  },
  {
   "cell_type": "code",
   "execution_count": 16,
   "metadata": {},
   "outputs": [
    {
     "name": "stdout",
     "output_type": "stream",
     "text": [
      "WARNING:tensorflow:From c:\\anaconda3\\envs\\ml-hus\\lib\\site-packages\\keras\\src\\optimizers\\__init__.py:309: The name tf.train.Optimizer is deprecated. Please use tf.compat.v1.train.Optimizer instead.\n",
      "\n"
     ]
    }
   ],
   "source": [
    "model.compile(optimizer='adam',\n",
    "                loss='categorical_crossentropy',\n",
    "                metrics=['accuracy'])"
   ]
  },
  {
   "cell_type": "code",
   "execution_count": 17,
   "metadata": {},
   "outputs": [],
   "source": [
    "now = datetime.now().strftime('%d-%m-%Y_%H-%M')\n",
    "\n",
    "checkpoint_callback = ModelCheckpoint(filepath=f\"../model/ModelCheckPoint/{now}/\" + \"model.{epoch:03d}-{val_loss:.4f}-{val_accuracy:.4f}.h5\",\n",
    "                                      monitor='val_loss',\n",
    "                                      save_best_only=True,\n",
    "                                      save_weights_only=False,\n",
    "                                      verbose=1)\n",
    "tensorboard_callback = TensorBoard(log_dir=f\"../model/TensorBoard/{now}/logs\")\n",
    "\n",
    "folder_logger_path = f\"../model/CSVLogger/{now}\"\n",
    "\n",
    "if os.path.exists(folder_logger_path) and os.path.isdir(folder_logger_path):\n",
    "    os.rmdir(folder_logger_path)\n",
    "os.makedirs(folder_logger_path)\n",
    "\n",
    "csv_logger_callback = CSVLogger(f\"{folder_logger_path}/training.log\")"
   ]
  },
  {
   "cell_type": "code",
   "execution_count": 18,
   "metadata": {},
   "outputs": [
    {
     "name": "stdout",
     "output_type": "stream",
     "text": [
      "Epoch 1/20\n",
      "WARNING:tensorflow:From c:\\anaconda3\\envs\\ml-hus\\lib\\site-packages\\keras\\src\\utils\\tf_utils.py:492: The name tf.ragged.RaggedTensorValue is deprecated. Please use tf.compat.v1.ragged.RaggedTensorValue instead.\n",
      "\n",
      "WARNING:tensorflow:From c:\\anaconda3\\envs\\ml-hus\\lib\\site-packages\\keras\\src\\engine\\base_layer_utils.py:384: The name tf.executing_eagerly_outside_functions is deprecated. Please use tf.compat.v1.executing_eagerly_outside_functions instead.\n",
      "\n",
      "  1/125 [..............................] - ETA: 11:45:14 - loss: 1.6081 - accuracy: 0.3125"
     ]
    }
   ],
   "source": [
    "model.fit(X_train, y_train, \n",
    "          epochs=20,\n",
    "          validation_split=.2,  \n",
    "          batch_size=32,\n",
    "          callbacks=[checkpoint_callback,\n",
    "                     tensorboard_callback,\n",
    "                     csv_logger_callback]\n",
    "          )\n",
    "model.save(f\"../model/FinalModel/{now}/model.h5\")"
   ]
  },
  {
   "cell_type": "code",
   "execution_count": 27,
   "metadata": {},
   "outputs": [
    {
     "name": "stdout",
     "output_type": "stream",
     "text": [
      "1/1 [==============================] - 0s 333ms/step\n"
     ]
    }
   ],
   "source": [
    "y_pred = model.predict(X_test)"
   ]
  },
  {
   "cell_type": "code",
   "execution_count": 28,
   "metadata": {},
   "outputs": [
    {
     "data": {
      "text/plain": [
       "array([[0., 1., 0., 0., 0.]], dtype=float32)"
      ]
     },
     "execution_count": 28,
     "metadata": {},
     "output_type": "execute_result"
    }
   ],
   "source": [
    "y_test"
   ]
  },
  {
   "cell_type": "code",
   "execution_count": 29,
   "metadata": {},
   "outputs": [
    {
     "data": {
      "text/plain": [
       "array([[0.20089799, 0.19670978, 0.1969538 , 0.20947286, 0.19596557]],\n",
       "      dtype=float32)"
      ]
     },
     "execution_count": 29,
     "metadata": {},
     "output_type": "execute_result"
    }
   ],
   "source": [
    "y_pred"
   ]
  },
  {
   "cell_type": "code",
   "execution_count": 19,
   "metadata": {},
   "outputs": [
    {
     "name": "stdout",
     "output_type": "stream",
     "text": [
      "1/1 [==============================] - 0s 42ms/step - loss: 0.9786 - accuracy: 0.0000e+00\n"
     ]
    },
    {
     "data": {
      "text/plain": [
       "[0.9785565733909607, 0.0]"
      ]
     },
     "execution_count": 19,
     "metadata": {},
     "output_type": "execute_result"
    }
   ],
   "source": [
    "model.evaluate(X_test, y_test)"
   ]
  }
 ],
 "metadata": {
  "kernelspec": {
   "display_name": "ml-hus",
   "language": "python",
   "name": "python3"
  },
  "language_info": {
   "codemirror_mode": {
    "name": "ipython",
    "version": 3
   },
   "file_extension": ".py",
   "mimetype": "text/x-python",
   "name": "python",
   "nbconvert_exporter": "python",
   "pygments_lexer": "ipython3",
   "version": "3.9.16"
  }
 },
 "nbformat": 4,
 "nbformat_minor": 2
}
