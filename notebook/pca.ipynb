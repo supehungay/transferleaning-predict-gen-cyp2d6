{
 "cells": [
  {
   "cell_type": "code",
   "execution_count": 134,
   "metadata": {},
   "outputs": [],
   "source": [
    "import numpy as np\n",
    "import pandas as pd\n",
    "import tensorflow as tf\n",
    "from keras.models import Model\n",
    "from keras.layers import Input, Dense, Flatten, Conv1D, MaxPooling1D, BatchNormalization, Activation, Dropout, Bidirectional, LSTM, Embedding\n",
    "from keras.utils import to_categorical\n",
    "from keras.optimizers import Adam\n",
    "from keras.callbacks import ModelCheckpoint, TensorBoard, CSVLogger\n",
    "\n",
    "from sklearn.metrics import mean_absolute_error\n",
    "from sklearn.model_selection import train_test_split\n",
    "\n",
    "import joblib\n",
    "import glob\n",
    "import matplotlib.pyplot as plt\n",
    "from datetime import datetime\n",
    "import os\n",
    "\n",
    "from sklearn.decomposition import PCA\n",
    "from sklearn.preprocessing import StandardScaler\n"
   ]
  },
  {
   "cell_type": "code",
   "execution_count": 40,
   "metadata": {},
   "outputs": [],
   "source": [
    "def label2onehot(label: np.array) -> np.array:\n",
    "    thresholds = [0.25, 0.75, 1.25, 1.75]\n",
    "\n",
    "    categorical_labels = np.digitize(label, thresholds)\n",
    "\n",
    "    one_hot_encoder = to_categorical(categorical_labels)\n",
    "    \n",
    "    return one_hot_encoder"
   ]
  },
  {
   "cell_type": "code",
   "execution_count": 135,
   "metadata": {},
   "outputs": [],
   "source": [
    "def load_data() -> tuple:\n",
    "    X = None\n",
    "    y = None\n",
    "    all_path = sorted(glob.glob('../data/input_data_seq/*'))\n",
    "    # count = 1\n",
    "    for count, path in enumerate(all_path):\n",
    "        print(f\"{count}. {path.split('/')[-1].split('.')[0]}\")\n",
    "        data_loaded = joblib.load(path)\n",
    "        if X is None:\n",
    "            X = data_loaded['X']\n",
    "            y = data_loaded['activate_score']\n",
    "        else:\n",
    "            X = np.concatenate((X, data_loaded['X']), axis=0)\n",
    "            y = np.concatenate((y, data_loaded['activate_score']), axis=0)\n",
    "\n",
    "    y = y.reshape(-1, 1)\n",
    "    y = label2onehot(y)\n",
    "    scaler = StandardScaler()\n",
    "    scaled_data = scaler.fit_transform(X)\n",
    "    pca = PCA(n_components=.95)\n",
    "    X = pca.fit_transform(scaled_data)\n",
    "    \n",
    "    return X, y"
   ]
  },
  {
   "cell_type": "code",
   "execution_count": 136,
   "metadata": {},
   "outputs": [
    {
     "name": "stdout",
     "output_type": "stream",
     "text": [
      "0. input_data_seq\\batch_0\n",
      "1. input_data_seq\\batch_1\n",
      "2. input_data_seq\\batch_2\n",
      "3. input_data_seq\\batch_3\n",
      "4. input_data_seq\\batch_4\n",
      "5. input_data_seq\\batch_5\n",
      "6. input_data_seq\\batch_6\n",
      "7. input_data_seq\\batch_7\n",
      "8. input_data_seq\\batch_8\n",
      "9. input_data_seq\\batch_9\n"
     ]
    }
   ],
   "source": [
    "# X_train, X_test, y_train, y_test = load_data()\n",
    "X_train, y_train = load_data()\n",
    "\n",
    "    \n",
    "input_shape = X_train.shape[1:]"
   ]
  },
  {
   "cell_type": "code",
   "execution_count": 137,
   "metadata": {},
   "outputs": [
    {
     "name": "stdout",
     "output_type": "stream",
     "text": [
      "X_train: (5000, 74); y_train: (5000, 5); input_shape(74,)\n"
     ]
    }
   ],
   "source": [
    "# print(f'X_train: {X_train.shape}; X_test: {X_test.shape}; y_train: {y_train.shape}; y_test: {y_test.shape}, input_shape{input_shape}')\n",
    "print(f'X_train: {X_train.shape}; y_train: {y_train.shape}; input_shape{input_shape}')"
   ]
  },
  {
   "cell_type": "code",
   "execution_count": 138,
   "metadata": {},
   "outputs": [
    {
     "data": {
      "text/plain": [
       "array([[1., 0., 0., 0., 0.],\n",
       "       [1., 0., 0., 0., 0.],\n",
       "       [1., 0., 0., 0., 0.],\n",
       "       ...,\n",
       "       [0., 0., 0., 0., 1.],\n",
       "       [0., 0., 0., 0., 1.],\n",
       "       [0., 0., 0., 0., 1.]], dtype=float32)"
      ]
     },
     "execution_count": 138,
     "metadata": {},
     "output_type": "execute_result"
    }
   ],
   "source": [
    "y_train"
   ]
  },
  {
   "cell_type": "code",
   "execution_count": 139,
   "metadata": {},
   "outputs": [
    {
     "data": {
      "text/plain": [
       "(74,)"
      ]
     },
     "execution_count": 139,
     "metadata": {},
     "output_type": "execute_result"
    }
   ],
   "source": [
    "X_train[0].shape"
   ]
  },
  {
   "cell_type": "code",
   "execution_count": 140,
   "metadata": {},
   "outputs": [
    {
     "data": {
      "text/plain": [
       "array([[-5.84944124e-02,  3.78311605e-01,  8.65931549e-02, ...,\n",
       "         5.95612506e-01, -3.56797533e-02,  8.69713809e-01],\n",
       "       [-1.48961700e-01, -8.01058980e-02,  4.43691967e-02, ...,\n",
       "        -4.66690708e-01,  6.39793330e-02,  1.15674008e-01],\n",
       "       [-4.38704404e-02,  6.56639530e-02,  5.48590772e-02, ...,\n",
       "         3.65325198e-01, -1.75973369e-02,  1.83094188e+00],\n",
       "       ...,\n",
       "       [-2.43503221e-01, -7.72830033e-01, -2.93344928e-02, ...,\n",
       "         4.98854589e-01, -1.87956955e-01,  8.87872728e-02],\n",
       "       [ 1.99076984e+00,  3.16845717e+01, -2.07302299e+01, ...,\n",
       "         1.42381834e-01, -6.67129797e-01,  1.64342199e+00],\n",
       "       [ 1.34528346e+00,  1.75104296e+01, -1.13174795e+01, ...,\n",
       "        -2.69923154e-01,  5.09727830e+00, -3.03921804e+00]])"
      ]
     },
     "execution_count": 140,
     "metadata": {},
     "output_type": "execute_result"
    }
   ],
   "source": [
    "X_train"
   ]
  },
  {
   "cell_type": "code",
   "execution_count": 141,
   "metadata": {},
   "outputs": [
    {
     "data": {
      "text/plain": [
       "(74,)"
      ]
     },
     "execution_count": 141,
     "metadata": {},
     "output_type": "execute_result"
    }
   ],
   "source": [
    "input_shape"
   ]
  },
  {
   "cell_type": "code",
   "execution_count": 143,
   "metadata": {},
   "outputs": [],
   "source": [
    "def build_model(input_shape):\n",
    "    inputs = Input(shape=input_shape, dtype=float, name=\"data\")\n",
    "    # labels = tf.keras.layers.Input(name=\"label\", shape=(None,))\n",
    "    # layer = Flatten(name='flatten')(layer)\n",
    "    # layer = Embedding(input_dim=3260, output_dim=100, input_length=input_shape)(inputs)\n",
    "    # layer = LSTM(128, return_sequences=True)(inputs)\n",
    "    # layer = LSTM(128)(layer)\n",
    "    \n",
    "    layer = Dense(units=128, activation='sigmoid', kernel_initializer='VarianceScaling', bias_initializer='Zeros', name='dense1')(inputs)\n",
    "    layer = Activation(activation='relu', name=f'activation_{4}')(layer)\n",
    "    layer = Dropout(0.3, name='dropout_4')(layer)\n",
    "    layer = Dense(units=64, activation='sigmoid', kernel_initializer='VarianceScaling', bias_initializer='Zeros', name='dense2')(layer)\n",
    "    layer = Activation(activation='relu', name=f'activation_{5}')(layer)\n",
    "    layer = Dropout(0.3, name='dropout_5')(layer)\n",
    "    layer = Dense(units=32, activation='sigmoid', kernel_initializer='VarianceScaling', bias_initializer='Zeros', name='dense3')(layer)\n",
    "    layer = Activation(activation='relu', name=f'activation_{6}')(layer)\n",
    "    outputs = Dense(units=5, activation='softmax', kernel_initializer='VarianceScaling', bias_initializer='Zeros')(layer)\n",
    "    model = Model(inputs=inputs, outputs=outputs, name='cnn_model')\n",
    "    \n",
    "    return model"
   ]
  },
  {
   "cell_type": "code",
   "execution_count": 144,
   "metadata": {},
   "outputs": [
    {
     "data": {
      "text/plain": [
       "(74,)"
      ]
     },
     "execution_count": 144,
     "metadata": {},
     "output_type": "execute_result"
    }
   ],
   "source": [
    "input_shape"
   ]
  },
  {
   "cell_type": "code",
   "execution_count": 145,
   "metadata": {},
   "outputs": [
    {
     "data": {
      "text/plain": [
       "136.63552985667448"
      ]
     },
     "execution_count": 145,
     "metadata": {},
     "output_type": "execute_result"
    }
   ],
   "source": [
    "np.max(X_train)"
   ]
  },
  {
   "cell_type": "code",
   "execution_count": 146,
   "metadata": {},
   "outputs": [
    {
     "name": "stdout",
     "output_type": "stream",
     "text": [
      "Model: \"cnn_model\"\n",
      "_________________________________________________________________\n",
      " Layer (type)                Output Shape              Param #   \n",
      "=================================================================\n",
      " data (InputLayer)           [(None, 74)]              0         \n",
      "                                                                 \n",
      " dense1 (Dense)              (None, 128)               9600      \n",
      "                                                                 \n",
      " activation_4 (Activation)   (None, 128)               0         \n",
      "                                                                 \n",
      " dropout_4 (Dropout)         (None, 128)               0         \n",
      "                                                                 \n",
      " dense2 (Dense)              (None, 64)                8256      \n",
      "                                                                 \n",
      " activation_5 (Activation)   (None, 64)                0         \n",
      "                                                                 \n",
      " dropout_5 (Dropout)         (None, 64)                0         \n",
      "                                                                 \n",
      " dense3 (Dense)              (None, 32)                2080      \n",
      "                                                                 \n",
      " activation_6 (Activation)   (None, 32)                0         \n",
      "                                                                 \n",
      " dense_15 (Dense)            (None, 5)                 165       \n",
      "                                                                 \n",
      "=================================================================\n",
      "Total params: 20101 (78.52 KB)\n",
      "Trainable params: 20101 (78.52 KB)\n",
      "Non-trainable params: 0 (0.00 Byte)\n",
      "_________________________________________________________________\n"
     ]
    }
   ],
   "source": [
    "model = build_model(input_shape=input_shape)\n",
    "model.summary()"
   ]
  },
  {
   "cell_type": "code",
   "execution_count": 147,
   "metadata": {},
   "outputs": [],
   "source": [
    "model.compile(optimizer='adam',\n",
    "                loss='categorical_crossentropy',\n",
    "                metrics=['accuracy'])"
   ]
  },
  {
   "cell_type": "code",
   "execution_count": 148,
   "metadata": {},
   "outputs": [],
   "source": [
    "now = datetime.now().strftime('%d-%m-%Y_%H-%M')\n",
    "\n",
    "checkpoint_callback = ModelCheckpoint(filepath=f\"../model/ModelCheckPoint/{now}/\" + \"model.{epoch:03d}-{val_loss:.4f}-{val_accuracy:.4f}.h5\",\n",
    "                                      monitor='val_loss',\n",
    "                                      save_best_only=True,\n",
    "                                      save_weights_only=False,\n",
    "                                      verbose=1)\n",
    "tensorboard_callback = TensorBoard(log_dir=f\"../model/TensorBoard/{now}/logs\")\n",
    "\n",
    "folder_logger_path = f\"../model/CSVLogger/{now}\"\n",
    "\n",
    "if os.path.exists(folder_logger_path) and os.path.isdir(folder_logger_path):\n",
    "    os.rmdir(folder_logger_path)\n",
    "os.makedirs(folder_logger_path)\n",
    "\n",
    "csv_logger_callback = CSVLogger(f\"{folder_logger_path}/training.log\")"
   ]
  },
  {
   "cell_type": "code",
   "execution_count": 150,
   "metadata": {},
   "outputs": [
    {
     "name": "stdout",
     "output_type": "stream",
     "text": [
      "Epoch 1/100\n",
      "111/125 [=========================>....] - ETA: 0s - loss: 1.3880 - accuracy: 0.3620\n",
      "Epoch 1: val_loss improved from 1.38942 to 1.38786, saving model to ../model/ModelCheckPoint/18-03-2024_16-56\\model.001-1.3879-0.3640.h5\n",
      "125/125 [==============================] - 1s 4ms/step - loss: 1.3873 - accuracy: 0.3627 - val_loss: 1.3879 - val_accuracy: 0.3640\n",
      "Epoch 2/100\n",
      "107/125 [========================>.....] - ETA: 0s - loss: 1.3850 - accuracy: 0.3776\n",
      "Epoch 2: val_loss improved from 1.38786 to 1.38467, saving model to ../model/ModelCheckPoint/18-03-2024_16-56\\model.002-1.3847-0.3660.h5\n",
      "125/125 [==============================] - 1s 4ms/step - loss: 1.3829 - accuracy: 0.3780 - val_loss: 1.3847 - val_accuracy: 0.3660\n",
      "Epoch 3/100\n",
      "119/125 [===========================>..] - ETA: 0s - loss: 1.3808 - accuracy: 0.3658\n",
      "Epoch 3: val_loss did not improve from 1.38467\n",
      "125/125 [==============================] - 1s 4ms/step - loss: 1.3766 - accuracy: 0.3705 - val_loss: 1.3870 - val_accuracy: 0.3640\n",
      "Epoch 4/100\n",
      "107/125 [========================>.....] - ETA: 0s - loss: 1.3716 - accuracy: 0.3768\n",
      "Epoch 4: val_loss did not improve from 1.38467\n",
      "125/125 [==============================] - 0s 4ms/step - loss: 1.3755 - accuracy: 0.3722 - val_loss: 1.3898 - val_accuracy: 0.3410\n",
      "Epoch 5/100\n",
      "109/125 [=========================>....] - ETA: 0s - loss: 1.3788 - accuracy: 0.3716\n",
      "Epoch 5: val_loss improved from 1.38467 to 1.37883, saving model to ../model/ModelCheckPoint/18-03-2024_16-56\\model.005-1.3788-0.3650.h5\n",
      "125/125 [==============================] - 1s 4ms/step - loss: 1.3770 - accuracy: 0.3725 - val_loss: 1.3788 - val_accuracy: 0.3650\n",
      "Epoch 6/100\n",
      "124/125 [============================>.] - ETA: 0s - loss: 1.3715 - accuracy: 0.3727\n",
      "Epoch 6: val_loss did not improve from 1.37883\n",
      "125/125 [==============================] - 0s 4ms/step - loss: 1.3716 - accuracy: 0.3725 - val_loss: 1.3804 - val_accuracy: 0.3620\n",
      "Epoch 7/100\n",
      "107/125 [========================>.....] - ETA: 0s - loss: 1.3624 - accuracy: 0.3841\n",
      "Epoch 7: val_loss did not improve from 1.37883\n",
      "125/125 [==============================] - 0s 4ms/step - loss: 1.3688 - accuracy: 0.3772 - val_loss: 1.3792 - val_accuracy: 0.3670\n",
      "Epoch 8/100\n",
      "117/125 [===========================>..] - ETA: 0s - loss: 1.3743 - accuracy: 0.3761\n",
      "Epoch 8: val_loss improved from 1.37883 to 1.37686, saving model to ../model/ModelCheckPoint/18-03-2024_16-56\\model.008-1.3769-0.3690.h5\n",
      "125/125 [==============================] - 0s 4ms/step - loss: 1.3715 - accuracy: 0.3785 - val_loss: 1.3769 - val_accuracy: 0.3690\n",
      "Epoch 9/100\n",
      "116/125 [==========================>...] - ETA: 0s - loss: 1.3678 - accuracy: 0.3661\n",
      "Epoch 9: val_loss improved from 1.37686 to 1.37539, saving model to ../model/ModelCheckPoint/18-03-2024_16-56\\model.009-1.3754-0.3710.h5\n",
      "125/125 [==============================] - 0s 4ms/step - loss: 1.3675 - accuracy: 0.3670 - val_loss: 1.3754 - val_accuracy: 0.3710\n",
      "Epoch 10/100\n",
      "119/125 [===========================>..] - ETA: 0s - loss: 1.3702 - accuracy: 0.3671\n",
      "Epoch 10: val_loss did not improve from 1.37539\n",
      "125/125 [==============================] - 1s 5ms/step - loss: 1.3676 - accuracy: 0.3683 - val_loss: 1.3755 - val_accuracy: 0.3600\n",
      "Epoch 11/100\n",
      "120/125 [===========================>..] - ETA: 0s - loss: 1.3622 - accuracy: 0.3792\n",
      "Epoch 11: val_loss improved from 1.37539 to 1.37495, saving model to ../model/ModelCheckPoint/18-03-2024_16-56\\model.011-1.3749-0.3650.h5\n",
      "125/125 [==============================] - 1s 6ms/step - loss: 1.3653 - accuracy: 0.3778 - val_loss: 1.3749 - val_accuracy: 0.3650\n",
      "Epoch 12/100\n",
      "121/125 [============================>.] - ETA: 0s - loss: 1.3560 - accuracy: 0.3804\n",
      "Epoch 12: val_loss did not improve from 1.37495\n",
      "125/125 [==============================] - 1s 6ms/step - loss: 1.3585 - accuracy: 0.3792 - val_loss: 1.3786 - val_accuracy: 0.3350\n",
      "Epoch 13/100\n",
      "118/125 [===========================>..] - ETA: 0s - loss: 1.3587 - accuracy: 0.3914\n",
      "Epoch 13: val_loss improved from 1.37495 to 1.37224, saving model to ../model/ModelCheckPoint/18-03-2024_16-56\\model.013-1.3722-0.3670.h5\n",
      "125/125 [==============================] - 1s 6ms/step - loss: 1.3611 - accuracy: 0.3882 - val_loss: 1.3722 - val_accuracy: 0.3670\n",
      "Epoch 14/100\n",
      "116/125 [==========================>...] - ETA: 0s - loss: 1.3581 - accuracy: 0.3825\n",
      "Epoch 14: val_loss did not improve from 1.37224\n",
      "125/125 [==============================] - 0s 4ms/step - loss: 1.3609 - accuracy: 0.3790 - val_loss: 1.3725 - val_accuracy: 0.3700\n",
      "Epoch 15/100\n",
      "117/125 [===========================>..] - ETA: 0s - loss: 1.3479 - accuracy: 0.3857\n",
      "Epoch 15: val_loss did not improve from 1.37224\n",
      "125/125 [==============================] - 1s 4ms/step - loss: 1.3563 - accuracy: 0.3810 - val_loss: 1.3724 - val_accuracy: 0.3590\n",
      "Epoch 16/100\n",
      "113/125 [==========================>...] - ETA: 0s - loss: 1.3503 - accuracy: 0.3819\n",
      "Epoch 16: val_loss improved from 1.37224 to 1.37105, saving model to ../model/ModelCheckPoint/18-03-2024_16-56\\model.016-1.3711-0.3650.h5\n",
      "125/125 [==============================] - 1s 4ms/step - loss: 1.3564 - accuracy: 0.3795 - val_loss: 1.3711 - val_accuracy: 0.3650\n",
      "Epoch 17/100\n",
      "105/125 [========================>.....] - ETA: 0s - loss: 1.3541 - accuracy: 0.3714\n",
      "Epoch 17: val_loss did not improve from 1.37105\n",
      "125/125 [==============================] - 0s 4ms/step - loss: 1.3574 - accuracy: 0.3717 - val_loss: 1.3731 - val_accuracy: 0.3640\n",
      "Epoch 18/100\n",
      "118/125 [===========================>..] - ETA: 0s - loss: 1.3549 - accuracy: 0.3790\n",
      "Epoch 18: val_loss improved from 1.37105 to 1.37001, saving model to ../model/ModelCheckPoint/18-03-2024_16-56\\model.018-1.3700-0.3680.h5\n",
      "125/125 [==============================] - 0s 4ms/step - loss: 1.3526 - accuracy: 0.3815 - val_loss: 1.3700 - val_accuracy: 0.3680\n",
      "Epoch 19/100\n",
      "121/125 [============================>.] - ETA: 0s - loss: 1.3494 - accuracy: 0.3827\n",
      "Epoch 19: val_loss improved from 1.37001 to 1.36765, saving model to ../model/ModelCheckPoint/18-03-2024_16-56\\model.019-1.3677-0.3670.h5\n",
      "125/125 [==============================] - 0s 4ms/step - loss: 1.3502 - accuracy: 0.3840 - val_loss: 1.3677 - val_accuracy: 0.3670\n",
      "Epoch 20/100\n",
      "116/125 [==========================>...] - ETA: 0s - loss: 1.3502 - accuracy: 0.3809\n",
      "Epoch 20: val_loss did not improve from 1.36765\n",
      "125/125 [==============================] - 1s 4ms/step - loss: 1.3540 - accuracy: 0.3795 - val_loss: 1.3679 - val_accuracy: 0.3660\n",
      "Epoch 21/100\n",
      "114/125 [==========================>...] - ETA: 0s - loss: 1.3414 - accuracy: 0.3920\n",
      "Epoch 21: val_loss did not improve from 1.36765\n",
      "125/125 [==============================] - 0s 4ms/step - loss: 1.3436 - accuracy: 0.3905 - val_loss: 1.3684 - val_accuracy: 0.3550\n",
      "Epoch 22/100\n",
      "122/125 [============================>.] - ETA: 0s - loss: 1.3447 - accuracy: 0.3878\n",
      "Epoch 22: val_loss improved from 1.36765 to 1.36528, saving model to ../model/ModelCheckPoint/18-03-2024_16-56\\model.022-1.3653-0.3670.h5\n",
      "125/125 [==============================] - 0s 4ms/step - loss: 1.3460 - accuracy: 0.3857 - val_loss: 1.3653 - val_accuracy: 0.3670\n",
      "Epoch 23/100\n",
      "108/125 [========================>.....] - ETA: 0s - loss: 1.3431 - accuracy: 0.3837\n",
      "Epoch 23: val_loss improved from 1.36528 to 1.36429, saving model to ../model/ModelCheckPoint/18-03-2024_16-56\\model.023-1.3643-0.3610.h5\n",
      "125/125 [==============================] - 0s 4ms/step - loss: 1.3422 - accuracy: 0.3823 - val_loss: 1.3643 - val_accuracy: 0.3610\n",
      "Epoch 24/100\n",
      "105/125 [========================>.....] - ETA: 0s - loss: 1.3430 - accuracy: 0.3917\n",
      "Epoch 24: val_loss did not improve from 1.36429\n",
      "125/125 [==============================] - 0s 4ms/step - loss: 1.3445 - accuracy: 0.3920 - val_loss: 1.3680 - val_accuracy: 0.3330\n",
      "Epoch 25/100\n",
      "110/125 [=========================>....] - ETA: 0s - loss: 1.3404 - accuracy: 0.3827\n",
      "Epoch 25: val_loss did not improve from 1.36429\n",
      "125/125 [==============================] - 0s 4ms/step - loss: 1.3422 - accuracy: 0.3800 - val_loss: 1.3693 - val_accuracy: 0.3690\n",
      "Epoch 26/100\n",
      "121/125 [============================>.] - ETA: 0s - loss: 1.3348 - accuracy: 0.3866\n",
      "Epoch 26: val_loss improved from 1.36429 to 1.36278, saving model to ../model/ModelCheckPoint/18-03-2024_16-56\\model.026-1.3628-0.3780.h5\n",
      "125/125 [==============================] - 0s 4ms/step - loss: 1.3363 - accuracy: 0.3865 - val_loss: 1.3628 - val_accuracy: 0.3780\n",
      "Epoch 27/100\n",
      "113/125 [==========================>...] - ETA: 0s - loss: 1.3433 - accuracy: 0.3822\n",
      "Epoch 27: val_loss improved from 1.36278 to 1.36127, saving model to ../model/ModelCheckPoint/18-03-2024_16-56\\model.027-1.3613-0.3550.h5\n",
      "125/125 [==============================] - 1s 4ms/step - loss: 1.3428 - accuracy: 0.3850 - val_loss: 1.3613 - val_accuracy: 0.3550\n",
      "Epoch 28/100\n",
      "116/125 [==========================>...] - ETA: 0s - loss: 1.3390 - accuracy: 0.3901\n",
      "Epoch 28: val_loss did not improve from 1.36127\n",
      "125/125 [==============================] - 0s 4ms/step - loss: 1.3351 - accuracy: 0.3910 - val_loss: 1.3619 - val_accuracy: 0.3650\n",
      "Epoch 29/100\n",
      "110/125 [=========================>....] - ETA: 0s - loss: 1.3357 - accuracy: 0.3821\n",
      "Epoch 29: val_loss improved from 1.36127 to 1.35810, saving model to ../model/ModelCheckPoint/18-03-2024_16-56\\model.029-1.3581-0.3650.h5\n",
      "125/125 [==============================] - 0s 4ms/step - loss: 1.3353 - accuracy: 0.3800 - val_loss: 1.3581 - val_accuracy: 0.3650\n",
      "Epoch 30/100\n",
      "111/125 [=========================>....] - ETA: 0s - loss: 1.3368 - accuracy: 0.3801\n",
      "Epoch 30: val_loss did not improve from 1.35810\n",
      "125/125 [==============================] - 0s 4ms/step - loss: 1.3355 - accuracy: 0.3840 - val_loss: 1.3591 - val_accuracy: 0.3590\n",
      "Epoch 31/100\n",
      "117/125 [===========================>..] - ETA: 0s - loss: 1.3444 - accuracy: 0.3822\n",
      "Epoch 31: val_loss did not improve from 1.35810\n",
      "125/125 [==============================] - 0s 4ms/step - loss: 1.3393 - accuracy: 0.3850 - val_loss: 1.3626 - val_accuracy: 0.3610\n",
      "Epoch 32/100\n",
      "110/125 [=========================>....] - ETA: 0s - loss: 1.3275 - accuracy: 0.3938\n",
      "Epoch 32: val_loss did not improve from 1.35810\n",
      "125/125 [==============================] - 1s 4ms/step - loss: 1.3276 - accuracy: 0.3940 - val_loss: 1.3617 - val_accuracy: 0.3600\n",
      "Epoch 33/100\n",
      "119/125 [===========================>..] - ETA: 0s - loss: 1.3316 - accuracy: 0.3873\n",
      "Epoch 33: val_loss did not improve from 1.35810\n",
      "125/125 [==============================] - 0s 3ms/step - loss: 1.3305 - accuracy: 0.3895 - val_loss: 1.3593 - val_accuracy: 0.3600\n",
      "Epoch 34/100\n",
      "109/125 [=========================>....] - ETA: 0s - loss: 1.3226 - accuracy: 0.3968\n",
      "Epoch 34: val_loss did not improve from 1.35810\n",
      "125/125 [==============================] - 1s 4ms/step - loss: 1.3287 - accuracy: 0.3935 - val_loss: 1.3595 - val_accuracy: 0.3600\n",
      "Epoch 35/100\n",
      "125/125 [==============================] - ETA: 0s - loss: 1.3265 - accuracy: 0.3972\n",
      "Epoch 35: val_loss did not improve from 1.35810\n",
      "125/125 [==============================] - 0s 4ms/step - loss: 1.3265 - accuracy: 0.3972 - val_loss: 1.3626 - val_accuracy: 0.3440\n",
      "Epoch 36/100\n",
      "116/125 [==========================>...] - ETA: 0s - loss: 1.3275 - accuracy: 0.3912\n",
      "Epoch 36: val_loss did not improve from 1.35810\n",
      "125/125 [==============================] - 0s 4ms/step - loss: 1.3278 - accuracy: 0.3902 - val_loss: 1.3582 - val_accuracy: 0.3730\n",
      "Epoch 37/100\n",
      "116/125 [==========================>...] - ETA: 0s - loss: 1.3270 - accuracy: 0.3949\n",
      "Epoch 37: val_loss improved from 1.35810 to 1.35804, saving model to ../model/ModelCheckPoint/18-03-2024_16-56\\model.037-1.3580-0.3550.h5\n",
      "125/125 [==============================] - 0s 4ms/step - loss: 1.3257 - accuracy: 0.3972 - val_loss: 1.3580 - val_accuracy: 0.3550\n",
      "Epoch 38/100\n",
      "118/125 [===========================>..] - ETA: 0s - loss: 1.3258 - accuracy: 0.3864\n",
      "Epoch 38: val_loss improved from 1.35804 to 1.35797, saving model to ../model/ModelCheckPoint/18-03-2024_16-56\\model.038-1.3580-0.3520.h5\n",
      "125/125 [==============================] - 0s 4ms/step - loss: 1.3285 - accuracy: 0.3860 - val_loss: 1.3580 - val_accuracy: 0.3520\n",
      "Epoch 39/100\n",
      "110/125 [=========================>....] - ETA: 0s - loss: 1.3342 - accuracy: 0.3898\n",
      "Epoch 39: val_loss improved from 1.35797 to 1.35767, saving model to ../model/ModelCheckPoint/18-03-2024_16-56\\model.039-1.3577-0.3690.h5\n",
      "125/125 [==============================] - 0s 4ms/step - loss: 1.3281 - accuracy: 0.3960 - val_loss: 1.3577 - val_accuracy: 0.3690\n",
      "Epoch 40/100\n",
      "109/125 [=========================>....] - ETA: 0s - loss: 1.3260 - accuracy: 0.3905\n",
      "Epoch 40: val_loss did not improve from 1.35767\n",
      "125/125 [==============================] - 0s 4ms/step - loss: 1.3239 - accuracy: 0.3902 - val_loss: 1.3579 - val_accuracy: 0.3620\n",
      "Epoch 41/100\n",
      "115/125 [==========================>...] - ETA: 0s - loss: 1.3236 - accuracy: 0.3954\n",
      "Epoch 41: val_loss improved from 1.35767 to 1.35664, saving model to ../model/ModelCheckPoint/18-03-2024_16-56\\model.041-1.3566-0.3640.h5\n",
      "125/125 [==============================] - 1s 4ms/step - loss: 1.3218 - accuracy: 0.3975 - val_loss: 1.3566 - val_accuracy: 0.3640\n",
      "Epoch 42/100\n",
      "125/125 [==============================] - ETA: 0s - loss: 1.3205 - accuracy: 0.3927\n",
      "Epoch 42: val_loss did not improve from 1.35664\n",
      "125/125 [==============================] - 1s 4ms/step - loss: 1.3205 - accuracy: 0.3927 - val_loss: 1.3592 - val_accuracy: 0.3540\n",
      "Epoch 43/100\n",
      "116/125 [==========================>...] - ETA: 0s - loss: 1.3202 - accuracy: 0.3974\n",
      "Epoch 43: val_loss improved from 1.35664 to 1.35648, saving model to ../model/ModelCheckPoint/18-03-2024_16-56\\model.043-1.3565-0.3560.h5\n",
      "125/125 [==============================] - 0s 4ms/step - loss: 1.3176 - accuracy: 0.3997 - val_loss: 1.3565 - val_accuracy: 0.3560\n",
      "Epoch 44/100\n",
      "113/125 [==========================>...] - ETA: 0s - loss: 1.3256 - accuracy: 0.3935\n",
      "Epoch 44: val_loss did not improve from 1.35648\n",
      "125/125 [==============================] - 0s 4ms/step - loss: 1.3216 - accuracy: 0.3968 - val_loss: 1.3616 - val_accuracy: 0.3600\n",
      "Epoch 45/100\n",
      "113/125 [==========================>...] - ETA: 0s - loss: 1.3221 - accuracy: 0.4013\n",
      "Epoch 45: val_loss did not improve from 1.35648\n",
      "125/125 [==============================] - 0s 4ms/step - loss: 1.3218 - accuracy: 0.4002 - val_loss: 1.3583 - val_accuracy: 0.3660\n",
      "Epoch 46/100\n",
      "118/125 [===========================>..] - ETA: 0s - loss: 1.3131 - accuracy: 0.4073\n",
      "Epoch 46: val_loss improved from 1.35648 to 1.35563, saving model to ../model/ModelCheckPoint/18-03-2024_16-56\\model.046-1.3556-0.3560.h5\n",
      "125/125 [==============================] - 1s 4ms/step - loss: 1.3136 - accuracy: 0.4070 - val_loss: 1.3556 - val_accuracy: 0.3560\n",
      "Epoch 47/100\n",
      "117/125 [===========================>..] - ETA: 0s - loss: 1.3170 - accuracy: 0.3926\n",
      "Epoch 47: val_loss did not improve from 1.35563\n",
      "125/125 [==============================] - 0s 3ms/step - loss: 1.3168 - accuracy: 0.3923 - val_loss: 1.3599 - val_accuracy: 0.3560\n",
      "Epoch 48/100\n",
      "110/125 [=========================>....] - ETA: 0s - loss: 1.3063 - accuracy: 0.3994\n",
      "Epoch 48: val_loss did not improve from 1.35563\n",
      "125/125 [==============================] - 1s 4ms/step - loss: 1.3129 - accuracy: 0.3983 - val_loss: 1.3563 - val_accuracy: 0.3650\n",
      "Epoch 49/100\n",
      "109/125 [=========================>....] - ETA: 0s - loss: 1.3092 - accuracy: 0.4002\n",
      "Epoch 49: val_loss did not improve from 1.35563\n",
      "125/125 [==============================] - 0s 4ms/step - loss: 1.3150 - accuracy: 0.3955 - val_loss: 1.3582 - val_accuracy: 0.3500\n",
      "Epoch 50/100\n",
      "121/125 [============================>.] - ETA: 0s - loss: 1.3161 - accuracy: 0.3990\n",
      "Epoch 50: val_loss did not improve from 1.35563\n",
      "125/125 [==============================] - 1s 4ms/step - loss: 1.3155 - accuracy: 0.3980 - val_loss: 1.3570 - val_accuracy: 0.3540\n",
      "Epoch 51/100\n",
      "108/125 [========================>.....] - ETA: 0s - loss: 1.3149 - accuracy: 0.4022\n",
      "Epoch 51: val_loss improved from 1.35563 to 1.35282, saving model to ../model/ModelCheckPoint/18-03-2024_16-56\\model.051-1.3528-0.3730.h5\n",
      "125/125 [==============================] - 0s 4ms/step - loss: 1.3151 - accuracy: 0.4020 - val_loss: 1.3528 - val_accuracy: 0.3730\n",
      "Epoch 52/100\n",
      "111/125 [=========================>....] - ETA: 0s - loss: 1.3032 - accuracy: 0.4099\n",
      "Epoch 52: val_loss did not improve from 1.35282\n",
      "125/125 [==============================] - 0s 4ms/step - loss: 1.3058 - accuracy: 0.4038 - val_loss: 1.3577 - val_accuracy: 0.3540\n",
      "Epoch 53/100\n",
      "108/125 [========================>.....] - ETA: 0s - loss: 1.2996 - accuracy: 0.4117\n",
      "Epoch 53: val_loss did not improve from 1.35282\n",
      "125/125 [==============================] - 0s 4ms/step - loss: 1.3086 - accuracy: 0.4040 - val_loss: 1.3596 - val_accuracy: 0.3550\n",
      "Epoch 54/100\n",
      "116/125 [==========================>...] - ETA: 0s - loss: 1.3025 - accuracy: 0.4046\n",
      "Epoch 54: val_loss did not improve from 1.35282\n",
      "125/125 [==============================] - 1s 5ms/step - loss: 1.3077 - accuracy: 0.4010 - val_loss: 1.3556 - val_accuracy: 0.3700\n",
      "Epoch 55/100\n",
      "121/125 [============================>.] - ETA: 0s - loss: 1.3105 - accuracy: 0.3936\n",
      "Epoch 55: val_loss did not improve from 1.35282\n",
      "125/125 [==============================] - 1s 4ms/step - loss: 1.3088 - accuracy: 0.3935 - val_loss: 1.3559 - val_accuracy: 0.3640\n",
      "Epoch 56/100\n",
      "121/125 [============================>.] - ETA: 0s - loss: 1.3093 - accuracy: 0.3970\n",
      "Epoch 56: val_loss did not improve from 1.35282\n",
      "125/125 [==============================] - 0s 4ms/step - loss: 1.3072 - accuracy: 0.4002 - val_loss: 1.3574 - val_accuracy: 0.3610\n",
      "Epoch 57/100\n",
      "112/125 [=========================>....] - ETA: 0s - loss: 1.3031 - accuracy: 0.4068\n",
      "Epoch 57: val_loss did not improve from 1.35282\n",
      "125/125 [==============================] - 0s 4ms/step - loss: 1.3069 - accuracy: 0.4045 - val_loss: 1.3568 - val_accuracy: 0.3650\n",
      "Epoch 58/100\n",
      "110/125 [=========================>....] - ETA: 0s - loss: 1.2958 - accuracy: 0.4148\n",
      "Epoch 58: val_loss did not improve from 1.35282\n",
      "125/125 [==============================] - 0s 4ms/step - loss: 1.3051 - accuracy: 0.4090 - val_loss: 1.3602 - val_accuracy: 0.3610\n",
      "Epoch 59/100\n",
      "109/125 [=========================>....] - ETA: 0s - loss: 1.3068 - accuracy: 0.4019\n",
      "Epoch 59: val_loss did not improve from 1.35282\n",
      "125/125 [==============================] - 1s 4ms/step - loss: 1.3085 - accuracy: 0.3985 - val_loss: 1.3538 - val_accuracy: 0.3640\n",
      "Epoch 60/100\n",
      "112/125 [=========================>....] - ETA: 0s - loss: 1.3038 - accuracy: 0.4029\n",
      "Epoch 60: val_loss improved from 1.35282 to 1.35243, saving model to ../model/ModelCheckPoint/18-03-2024_16-56\\model.060-1.3524-0.3650.h5\n",
      "125/125 [==============================] - 1s 4ms/step - loss: 1.3067 - accuracy: 0.4005 - val_loss: 1.3524 - val_accuracy: 0.3650\n",
      "Epoch 61/100\n",
      "119/125 [===========================>..] - ETA: 0s - loss: 1.3023 - accuracy: 0.3981\n",
      "Epoch 61: val_loss did not improve from 1.35243\n",
      "125/125 [==============================] - 0s 3ms/step - loss: 1.3026 - accuracy: 0.3970 - val_loss: 1.3540 - val_accuracy: 0.3700\n",
      "Epoch 62/100\n",
      "122/125 [============================>.] - ETA: 0s - loss: 1.2993 - accuracy: 0.4011\n",
      "Epoch 62: val_loss did not improve from 1.35243\n",
      "125/125 [==============================] - 1s 4ms/step - loss: 1.2999 - accuracy: 0.4000 - val_loss: 1.3579 - val_accuracy: 0.3690\n",
      "Epoch 63/100\n",
      "110/125 [=========================>....] - ETA: 0s - loss: 1.2930 - accuracy: 0.4119\n",
      "Epoch 63: val_loss did not improve from 1.35243\n",
      "125/125 [==============================] - 1s 4ms/step - loss: 1.2958 - accuracy: 0.4100 - val_loss: 1.3545 - val_accuracy: 0.3720\n",
      "Epoch 64/100\n",
      "112/125 [=========================>....] - ETA: 0s - loss: 1.3035 - accuracy: 0.4049\n",
      "Epoch 64: val_loss did not improve from 1.35243\n",
      "125/125 [==============================] - 1s 4ms/step - loss: 1.3048 - accuracy: 0.4060 - val_loss: 1.3527 - val_accuracy: 0.3650\n",
      "Epoch 65/100\n",
      "110/125 [=========================>....] - ETA: 0s - loss: 1.2962 - accuracy: 0.4000\n",
      "Epoch 65: val_loss did not improve from 1.35243\n",
      "125/125 [==============================] - 1s 4ms/step - loss: 1.3019 - accuracy: 0.3965 - val_loss: 1.3595 - val_accuracy: 0.3770\n",
      "Epoch 66/100\n",
      "110/125 [=========================>....] - ETA: 0s - loss: 1.2986 - accuracy: 0.4074\n",
      "Epoch 66: val_loss did not improve from 1.35243\n",
      "125/125 [==============================] - 1s 4ms/step - loss: 1.2985 - accuracy: 0.4070 - val_loss: 1.3554 - val_accuracy: 0.3530\n",
      "Epoch 67/100\n",
      "117/125 [===========================>..] - ETA: 0s - loss: 1.2940 - accuracy: 0.4052\n",
      "Epoch 67: val_loss did not improve from 1.35243\n",
      "125/125 [==============================] - 0s 4ms/step - loss: 1.2962 - accuracy: 0.4017 - val_loss: 1.3629 - val_accuracy: 0.3390\n",
      "Epoch 68/100\n",
      "114/125 [==========================>...] - ETA: 0s - loss: 1.2843 - accuracy: 0.4071\n",
      "Epoch 68: val_loss did not improve from 1.35243\n",
      "125/125 [==============================] - 0s 4ms/step - loss: 1.2909 - accuracy: 0.4000 - val_loss: 1.3540 - val_accuracy: 0.3570\n",
      "Epoch 69/100\n",
      "113/125 [==========================>...] - ETA: 0s - loss: 1.2997 - accuracy: 0.3993\n",
      "Epoch 69: val_loss did not improve from 1.35243\n",
      "125/125 [==============================] - 0s 3ms/step - loss: 1.2988 - accuracy: 0.4010 - val_loss: 1.3541 - val_accuracy: 0.3600\n",
      "Epoch 70/100\n",
      "112/125 [=========================>....] - ETA: 0s - loss: 1.2961 - accuracy: 0.4007\n",
      "Epoch 70: val_loss did not improve from 1.35243\n",
      "125/125 [==============================] - 0s 4ms/step - loss: 1.3002 - accuracy: 0.3972 - val_loss: 1.3620 - val_accuracy: 0.3500\n",
      "Epoch 71/100\n",
      "111/125 [=========================>....] - ETA: 0s - loss: 1.2953 - accuracy: 0.4037\n",
      "Epoch 71: val_loss did not improve from 1.35243\n",
      "125/125 [==============================] - 0s 4ms/step - loss: 1.2931 - accuracy: 0.4022 - val_loss: 1.3542 - val_accuracy: 0.3710\n",
      "Epoch 72/100\n",
      "121/125 [============================>.] - ETA: 0s - loss: 1.2946 - accuracy: 0.4032\n",
      "Epoch 72: val_loss did not improve from 1.35243\n",
      "125/125 [==============================] - 0s 4ms/step - loss: 1.2948 - accuracy: 0.4035 - val_loss: 1.3525 - val_accuracy: 0.3750\n",
      "Epoch 73/100\n",
      "114/125 [==========================>...] - ETA: 0s - loss: 1.2889 - accuracy: 0.4106\n",
      "Epoch 73: val_loss did not improve from 1.35243\n",
      "125/125 [==============================] - 0s 4ms/step - loss: 1.2937 - accuracy: 0.4067 - val_loss: 1.3562 - val_accuracy: 0.3600\n",
      "Epoch 74/100\n",
      "118/125 [===========================>..] - ETA: 0s - loss: 1.2943 - accuracy: 0.3980\n",
      "Epoch 74: val_loss did not improve from 1.35243\n",
      "125/125 [==============================] - 1s 6ms/step - loss: 1.2950 - accuracy: 0.3988 - val_loss: 1.3590 - val_accuracy: 0.3640\n",
      "Epoch 75/100\n",
      "123/125 [============================>.] - ETA: 0s - loss: 1.2886 - accuracy: 0.4111\n",
      "Epoch 75: val_loss did not improve from 1.35243\n",
      "125/125 [==============================] - 1s 8ms/step - loss: 1.2854 - accuracy: 0.4132 - val_loss: 1.3558 - val_accuracy: 0.3600\n",
      "Epoch 76/100\n",
      "123/125 [============================>.] - ETA: 0s - loss: 1.2935 - accuracy: 0.4103\n",
      "Epoch 76: val_loss did not improve from 1.35243\n",
      "125/125 [==============================] - 1s 9ms/step - loss: 1.2911 - accuracy: 0.4117 - val_loss: 1.3545 - val_accuracy: 0.3650\n",
      "Epoch 77/100\n",
      "124/125 [============================>.] - ETA: 0s - loss: 1.2917 - accuracy: 0.4128\n",
      "Epoch 77: val_loss did not improve from 1.35243\n",
      "125/125 [==============================] - 1s 8ms/step - loss: 1.2936 - accuracy: 0.4123 - val_loss: 1.3592 - val_accuracy: 0.3600\n",
      "Epoch 78/100\n",
      "122/125 [============================>.] - ETA: 0s - loss: 1.2894 - accuracy: 0.4042\n",
      "Epoch 78: val_loss did not improve from 1.35243\n",
      "125/125 [==============================] - 1s 8ms/step - loss: 1.2863 - accuracy: 0.4067 - val_loss: 1.3580 - val_accuracy: 0.3650\n",
      "Epoch 79/100\n",
      "122/125 [============================>.] - ETA: 0s - loss: 1.2950 - accuracy: 0.4119\n",
      "Epoch 79: val_loss did not improve from 1.35243\n",
      "125/125 [==============================] - 1s 8ms/step - loss: 1.2951 - accuracy: 0.4103 - val_loss: 1.3597 - val_accuracy: 0.3580\n",
      "Epoch 80/100\n",
      "121/125 [============================>.] - ETA: 0s - loss: 1.2886 - accuracy: 0.4037\n",
      "Epoch 80: val_loss did not improve from 1.35243\n",
      "125/125 [==============================] - 1s 7ms/step - loss: 1.2893 - accuracy: 0.4020 - val_loss: 1.3564 - val_accuracy: 0.3620\n",
      "Epoch 81/100\n",
      "117/125 [===========================>..] - ETA: 0s - loss: 1.2915 - accuracy: 0.4022\n",
      "Epoch 81: val_loss did not improve from 1.35243\n",
      "125/125 [==============================] - 1s 7ms/step - loss: 1.2914 - accuracy: 0.4025 - val_loss: 1.3581 - val_accuracy: 0.3670\n",
      "Epoch 82/100\n",
      "118/125 [===========================>..] - ETA: 0s - loss: 1.2829 - accuracy: 0.4158\n",
      "Epoch 82: val_loss did not improve from 1.35243\n",
      "125/125 [==============================] - 1s 8ms/step - loss: 1.2862 - accuracy: 0.4130 - val_loss: 1.3569 - val_accuracy: 0.3630\n",
      "Epoch 83/100\n",
      "122/125 [============================>.] - ETA: 0s - loss: 1.2855 - accuracy: 0.4052\n",
      "Epoch 83: val_loss did not improve from 1.35243\n",
      "125/125 [==============================] - 1s 7ms/step - loss: 1.2871 - accuracy: 0.4042 - val_loss: 1.3580 - val_accuracy: 0.3680\n",
      "Epoch 84/100\n",
      "122/125 [============================>.] - ETA: 0s - loss: 1.2857 - accuracy: 0.4065\n",
      "Epoch 84: val_loss did not improve from 1.35243\n",
      "125/125 [==============================] - 1s 7ms/step - loss: 1.2858 - accuracy: 0.4058 - val_loss: 1.3591 - val_accuracy: 0.3720\n",
      "Epoch 85/100\n",
      "120/125 [===========================>..] - ETA: 0s - loss: 1.2888 - accuracy: 0.4120\n",
      "Epoch 85: val_loss did not improve from 1.35243\n",
      "125/125 [==============================] - 1s 7ms/step - loss: 1.2900 - accuracy: 0.4110 - val_loss: 1.3620 - val_accuracy: 0.3710\n",
      "Epoch 86/100\n",
      "120/125 [===========================>..] - ETA: 0s - loss: 1.2899 - accuracy: 0.4042\n",
      "Epoch 86: val_loss did not improve from 1.35243\n",
      "125/125 [==============================] - 1s 7ms/step - loss: 1.2913 - accuracy: 0.4030 - val_loss: 1.3542 - val_accuracy: 0.3790\n",
      "Epoch 87/100\n",
      "123/125 [============================>.] - ETA: 0s - loss: 1.2877 - accuracy: 0.4108\n",
      "Epoch 87: val_loss did not improve from 1.35243\n",
      "125/125 [==============================] - 1s 8ms/step - loss: 1.2879 - accuracy: 0.4115 - val_loss: 1.3579 - val_accuracy: 0.3510\n",
      "Epoch 88/100\n",
      "116/125 [==========================>...] - ETA: 0s - loss: 1.2858 - accuracy: 0.4033\n",
      "Epoch 88: val_loss did not improve from 1.35243\n",
      "125/125 [==============================] - 1s 8ms/step - loss: 1.2862 - accuracy: 0.4038 - val_loss: 1.3580 - val_accuracy: 0.3480\n",
      "Epoch 89/100\n",
      "118/125 [===========================>..] - ETA: 0s - loss: 1.2795 - accuracy: 0.4139\n",
      "Epoch 89: val_loss did not improve from 1.35243\n",
      "125/125 [==============================] - 1s 8ms/step - loss: 1.2792 - accuracy: 0.4132 - val_loss: 1.3638 - val_accuracy: 0.3460\n",
      "Epoch 90/100\n",
      "120/125 [===========================>..] - ETA: 0s - loss: 1.2813 - accuracy: 0.4062\n",
      "Epoch 90: val_loss did not improve from 1.35243\n",
      "125/125 [==============================] - 1s 7ms/step - loss: 1.2815 - accuracy: 0.4060 - val_loss: 1.3570 - val_accuracy: 0.3710\n",
      "Epoch 91/100\n",
      "119/125 [===========================>..] - ETA: 0s - loss: 1.2810 - accuracy: 0.4044\n",
      "Epoch 91: val_loss did not improve from 1.35243\n",
      "125/125 [==============================] - 1s 5ms/step - loss: 1.2816 - accuracy: 0.4045 - val_loss: 1.3550 - val_accuracy: 0.3710\n",
      "Epoch 92/100\n",
      "118/125 [===========================>..] - ETA: 0s - loss: 1.2761 - accuracy: 0.4163\n",
      "Epoch 92: val_loss did not improve from 1.35243\n",
      "125/125 [==============================] - 0s 3ms/step - loss: 1.2780 - accuracy: 0.4125 - val_loss: 1.3583 - val_accuracy: 0.3640\n",
      "Epoch 93/100\n",
      "108/125 [========================>.....] - ETA: 0s - loss: 1.2728 - accuracy: 0.4149\n",
      "Epoch 93: val_loss did not improve from 1.35243\n",
      "125/125 [==============================] - 0s 4ms/step - loss: 1.2750 - accuracy: 0.4142 - val_loss: 1.3617 - val_accuracy: 0.3690\n",
      "Epoch 94/100\n",
      "112/125 [=========================>....] - ETA: 0s - loss: 1.2724 - accuracy: 0.4071\n",
      "Epoch 94: val_loss did not improve from 1.35243\n",
      "125/125 [==============================] - 1s 4ms/step - loss: 1.2775 - accuracy: 0.4058 - val_loss: 1.3595 - val_accuracy: 0.3710\n",
      "Epoch 95/100\n",
      "114/125 [==========================>...] - ETA: 0s - loss: 1.2765 - accuracy: 0.4109\n",
      "Epoch 95: val_loss did not improve from 1.35243\n",
      "125/125 [==============================] - 1s 4ms/step - loss: 1.2773 - accuracy: 0.4098 - val_loss: 1.3564 - val_accuracy: 0.3690\n",
      "Epoch 96/100\n",
      "110/125 [=========================>....] - ETA: 0s - loss: 1.2715 - accuracy: 0.4199\n",
      "Epoch 96: val_loss did not improve from 1.35243\n",
      "125/125 [==============================] - 1s 4ms/step - loss: 1.2693 - accuracy: 0.4200 - val_loss: 1.3639 - val_accuracy: 0.3740\n",
      "Epoch 97/100\n",
      "111/125 [=========================>....] - ETA: 0s - loss: 1.2771 - accuracy: 0.4062\n",
      "Epoch 97: val_loss did not improve from 1.35243\n",
      "125/125 [==============================] - 0s 4ms/step - loss: 1.2740 - accuracy: 0.4110 - val_loss: 1.3583 - val_accuracy: 0.3730\n",
      "Epoch 98/100\n",
      "112/125 [=========================>....] - ETA: 0s - loss: 1.2680 - accuracy: 0.4241\n",
      "Epoch 98: val_loss did not improve from 1.35243\n",
      "125/125 [==============================] - 1s 4ms/step - loss: 1.2721 - accuracy: 0.4207 - val_loss: 1.3603 - val_accuracy: 0.3550\n",
      "Epoch 99/100\n",
      "125/125 [==============================] - ETA: 0s - loss: 1.2875 - accuracy: 0.3975\n",
      "Epoch 99: val_loss did not improve from 1.35243\n",
      "125/125 [==============================] - 0s 4ms/step - loss: 1.2875 - accuracy: 0.3975 - val_loss: 1.3566 - val_accuracy: 0.3690\n",
      "Epoch 100/100\n",
      "121/125 [============================>.] - ETA: 0s - loss: 1.2762 - accuracy: 0.4155\n",
      "Epoch 100: val_loss did not improve from 1.35243\n",
      "125/125 [==============================] - 1s 4ms/step - loss: 1.2740 - accuracy: 0.4175 - val_loss: 1.3570 - val_accuracy: 0.3780\n"
     ]
    }
   ],
   "source": [
    "model.fit(X_train, y_train, \n",
    "          epochs=100,\n",
    "          validation_split=.2,  \n",
    "          batch_size=32,\n",
    "          callbacks=[checkpoint_callback,\n",
    "                     tensorboard_callback,\n",
    "                     csv_logger_callback]\n",
    "          )\n",
    "model.save(f\"../model/FinalModel/{now}/model.h5\")"
   ]
  },
  {
   "cell_type": "code",
   "execution_count": 27,
   "metadata": {},
   "outputs": [
    {
     "name": "stdout",
     "output_type": "stream",
     "text": [
      "1/1 [==============================] - 0s 333ms/step\n"
     ]
    }
   ],
   "source": [
    "y_pred = model.predict(X_test)"
   ]
  },
  {
   "cell_type": "code",
   "execution_count": 28,
   "metadata": {},
   "outputs": [
    {
     "data": {
      "text/plain": [
       "array([[0., 1., 0., 0., 0.]], dtype=float32)"
      ]
     },
     "execution_count": 28,
     "metadata": {},
     "output_type": "execute_result"
    }
   ],
   "source": [
    "y_test"
   ]
  },
  {
   "cell_type": "code",
   "execution_count": 29,
   "metadata": {},
   "outputs": [
    {
     "data": {
      "text/plain": [
       "array([[0.20089799, 0.19670978, 0.1969538 , 0.20947286, 0.19596557]],\n",
       "      dtype=float32)"
      ]
     },
     "execution_count": 29,
     "metadata": {},
     "output_type": "execute_result"
    }
   ],
   "source": [
    "y_pred"
   ]
  },
  {
   "cell_type": "code",
   "execution_count": 19,
   "metadata": {},
   "outputs": [
    {
     "name": "stdout",
     "output_type": "stream",
     "text": [
      "1/1 [==============================] - 0s 42ms/step - loss: 0.9786 - accuracy: 0.0000e+00\n"
     ]
    },
    {
     "data": {
      "text/plain": [
       "[0.9785565733909607, 0.0]"
      ]
     },
     "execution_count": 19,
     "metadata": {},
     "output_type": "execute_result"
    }
   ],
   "source": [
    "model.evaluate(X_test, y_test)"
   ]
  }
 ],
 "metadata": {
  "kernelspec": {
   "display_name": "ml-hus",
   "language": "python",
   "name": "python3"
  },
  "language_info": {
   "codemirror_mode": {
    "name": "ipython",
    "version": 3
   },
   "file_extension": ".py",
   "mimetype": "text/x-python",
   "name": "python",
   "nbconvert_exporter": "python",
   "pygments_lexer": "ipython3",
   "version": "3.9.16"
  }
 },
 "nbformat": 4,
 "nbformat_minor": 2
}
